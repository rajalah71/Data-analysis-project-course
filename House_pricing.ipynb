{
 "cells": [
  {
   "cell_type": "markdown",
   "id": "f1acefca-6023-4a02-b820-e21ec09e18dd",
   "metadata": {},
   "source": [
    "## Datan luku ja visualisointi"
   ]
  },
  {
   "cell_type": "code",
   "execution_count": 123,
   "id": "3dba32c3-bc9c-4bdc-aa3c-febcd395dea1",
   "metadata": {},
   "outputs": [],
   "source": [
    "import pandas as pd\n",
    "import numpy as np\n",
    "import re\n",
    "import matplotlib.pyplot as plt\n",
    "from sklearn.pipeline import Pipeline\n",
    "from sklearn.preprocessing import StandardScaler\n",
    "from sklearn.model_selection import train_test_split\n",
    "from sklearn.preprocessing import FunctionTransformer\n",
    "from sklearn.compose import ColumnTransformer\n",
    "from sklearn.compose import make_column_transformer\n",
    "from sklearn.impute import SimpleImputer\n",
    "from sklearn.preprocessing import OneHotEncoder\n",
    "from sklearn.ensemble import RandomForestRegressor\n",
    "from catboost import CatBoostRegressor, Pool\n",
    "from sklearn.model_selection import cross_val_score\n",
    "from sklearn.ensemble import AdaBoostRegressor\n",
    "from sklearn.ensemble import GradientBoostingRegressor\n",
    "import pickle\n",
    "\n",
    "from JR_preprocess import MyCategoricalTransformer"
   ]
  },
  {
   "cell_type": "code",
   "execution_count": 129,
   "id": "46fd73d6-e39b-45a5-8da4-64705bb4ae3a",
   "metadata": {},
   "outputs": [],
   "source": [
    "df = pd.read_csv(\"asuntojen_hintatiedot_postinumeroilla.csv\")"
   ]
  },
  {
   "cell_type": "code",
   "execution_count": 130,
   "id": "a9393e55-7884-4c2c-b05b-359363f0a9e0",
   "metadata": {},
   "outputs": [],
   "source": [
    "train, test = train_test_split(df[[\"Postinumero\", \"Kaupunginosa\", \"Kaupunki\",\t\"Huoneisto\", \"Huoneistotyyppi\",\t\"Talotyyppi\",\t\"m2\", \"Velaton hinta\"\t,\"Rakennusvuosi\",\t\"Kerros\"\t,\"Hissi\"\t,\"Kunto\"\t,\"Tontti\"\t,\"Energialuokka\"]], test_size=0.2, train_size=0.8, random_state=2022, shuffle=True, stratify = df[\"Talotyyppi\"])\n",
    "\n",
    "X_train, y_train = train.drop(\"Velaton hinta\", axis = 1), train[\"Velaton hinta\"]\n",
    "X_test, y_test = test.drop(\"Velaton hinta\", axis = 1), test[\"Velaton hinta\"]"
   ]
  },
  {
   "cell_type": "code",
   "execution_count": 131,
   "id": "a5417026-903c-4219-8d4e-e0185d22fb33",
   "metadata": {},
   "outputs": [
    {
     "data": {
      "text/html": [
       "<div>\n",
       "<style scoped>\n",
       "    .dataframe tbody tr th:only-of-type {\n",
       "        vertical-align: middle;\n",
       "    }\n",
       "\n",
       "    .dataframe tbody tr th {\n",
       "        vertical-align: top;\n",
       "    }\n",
       "\n",
       "    .dataframe thead th {\n",
       "        text-align: right;\n",
       "    }\n",
       "</style>\n",
       "<table border=\"1\" class=\"dataframe\">\n",
       "  <thead>\n",
       "    <tr style=\"text-align: right;\">\n",
       "      <th></th>\n",
       "      <th>Kaupunki</th>\n",
       "      <th>Huoneistotyyppi</th>\n",
       "      <th>Kaupunginosa</th>\n",
       "      <th>Postinumero</th>\n",
       "      <th>Huoneisto</th>\n",
       "      <th>Talotyyppi</th>\n",
       "      <th>m2</th>\n",
       "      <th>Velaton hinta</th>\n",
       "      <th>€/m2</th>\n",
       "      <th>Rakennusvuosi</th>\n",
       "      <th>Kerros</th>\n",
       "      <th>Hissi</th>\n",
       "      <th>Kunto</th>\n",
       "      <th>Tontti</th>\n",
       "      <th>Energialuokka</th>\n",
       "    </tr>\n",
       "  </thead>\n",
       "  <tbody>\n",
       "    <tr>\n",
       "      <th>0</th>\n",
       "      <td>Akaa</td>\n",
       "      <td>Yksiö</td>\n",
       "      <td>Toijala / keskusta</td>\n",
       "      <td>37800.0</td>\n",
       "      <td>1 h, tupak., alk.</td>\n",
       "      <td>kt</td>\n",
       "      <td>34.0</td>\n",
       "      <td>115600</td>\n",
       "      <td>3400</td>\n",
       "      <td>2022</td>\n",
       "      <td>4/9</td>\n",
       "      <td>on</td>\n",
       "      <td>hyvä</td>\n",
       "      <td>oma</td>\n",
       "      <td>NaN</td>\n",
       "    </tr>\n",
       "    <tr>\n",
       "      <th>1</th>\n",
       "      <td>Akaa</td>\n",
       "      <td>Yksiö</td>\n",
       "      <td>Toijala / keskusta</td>\n",
       "      <td>37800.0</td>\n",
       "      <td>1h,kk,vh</td>\n",
       "      <td>kt</td>\n",
       "      <td>32.0</td>\n",
       "      <td>29500</td>\n",
       "      <td>922</td>\n",
       "      <td>1976</td>\n",
       "      <td>2/3</td>\n",
       "      <td>ei</td>\n",
       "      <td>hyvä</td>\n",
       "      <td>oma</td>\n",
       "      <td>F2013</td>\n",
       "    </tr>\n",
       "    <tr>\n",
       "      <th>2</th>\n",
       "      <td>Akaa</td>\n",
       "      <td>Yksiö</td>\n",
       "      <td>Toijala / keskusta</td>\n",
       "      <td>37800.0</td>\n",
       "      <td>1 h, tupak., s</td>\n",
       "      <td>kt</td>\n",
       "      <td>34.0</td>\n",
       "      <td>114235</td>\n",
       "      <td>3360</td>\n",
       "      <td>2022</td>\n",
       "      <td>3/9</td>\n",
       "      <td>on</td>\n",
       "      <td>hyvä</td>\n",
       "      <td>oma</td>\n",
       "      <td>NaN</td>\n",
       "    </tr>\n",
       "    <tr>\n",
       "      <th>3</th>\n",
       "      <td>Akaa</td>\n",
       "      <td>Yksiö</td>\n",
       "      <td>Toijala / keskusta</td>\n",
       "      <td>37800.0</td>\n",
       "      <td>1 h, tupak., s</td>\n",
       "      <td>kt</td>\n",
       "      <td>34.0</td>\n",
       "      <td>112560</td>\n",
       "      <td>3311</td>\n",
       "      <td>2022</td>\n",
       "      <td>2/9</td>\n",
       "      <td>on</td>\n",
       "      <td>hyvä</td>\n",
       "      <td>oma</td>\n",
       "      <td>NaN</td>\n",
       "    </tr>\n",
       "    <tr>\n",
       "      <th>4</th>\n",
       "      <td>Akaa</td>\n",
       "      <td>Yksiö</td>\n",
       "      <td>Toijala / keskusta</td>\n",
       "      <td>37800.0</td>\n",
       "      <td>1h, tupak. alk.</td>\n",
       "      <td>kt</td>\n",
       "      <td>34.0</td>\n",
       "      <td>110048</td>\n",
       "      <td>3237</td>\n",
       "      <td>2022</td>\n",
       "      <td>1/9</td>\n",
       "      <td>on</td>\n",
       "      <td>hyvä</td>\n",
       "      <td>oma</td>\n",
       "      <td>NaN</td>\n",
       "    </tr>\n",
       "  </tbody>\n",
       "</table>\n",
       "</div>"
      ],
      "text/plain": [
       "  Kaupunki Huoneistotyyppi        Kaupunginosa  Postinumero  \\\n",
       "0     Akaa           Yksiö  Toijala / keskusta      37800.0   \n",
       "1     Akaa           Yksiö  Toijala / keskusta      37800.0   \n",
       "2     Akaa           Yksiö  Toijala / keskusta      37800.0   \n",
       "3     Akaa           Yksiö  Toijala / keskusta      37800.0   \n",
       "4     Akaa           Yksiö  Toijala / keskusta      37800.0   \n",
       "\n",
       "           Huoneisto Talotyyppi    m2  Velaton hinta  €/m2  Rakennusvuosi  \\\n",
       "0  1 h, tupak., alk.         kt  34.0         115600  3400           2022   \n",
       "1           1h,kk,vh         kt  32.0          29500   922           1976   \n",
       "2     1 h, tupak., s         kt  34.0         114235  3360           2022   \n",
       "3     1 h, tupak., s         kt  34.0         112560  3311           2022   \n",
       "4    1h, tupak. alk.         kt  34.0         110048  3237           2022   \n",
       "\n",
       "  Kerros Hissi Kunto Tontti Energialuokka  \n",
       "0    4/9    on  hyvä    oma           NaN  \n",
       "1    2/3    ei  hyvä    oma         F2013  \n",
       "2    3/9    on  hyvä    oma           NaN  \n",
       "3    2/9    on  hyvä    oma           NaN  \n",
       "4    1/9    on  hyvä    oma           NaN  "
      ]
     },
     "execution_count": 131,
     "metadata": {},
     "output_type": "execute_result"
    }
   ],
   "source": [
    "df.head()"
   ]
  },
  {
   "cell_type": "code",
   "execution_count": 195,
   "id": "59c0d803-a102-4b3f-a37d-5db62212002a",
   "metadata": {},
   "outputs": [
    {
     "data": {
      "image/png": "[encoded data removed]",
      "text/plain": [
       "<Figure size 1500x600 with 1 Axes>"
      ]
     },
     "metadata": {},
     "output_type": "display_data"
    }
   ],
   "source": [
    "missing = []\n",
    "for column in df:\n",
    "    missing.append(df[column].isna().sum()/ (len(df.index)))\n",
    "\n",
    "fig, ax = plt.subplots(figsize=(15, 6))\n",
    "plt.bar(df.columns, missing)\n",
    "#plt.rcParams['font.size'] = '16'\n",
    "for label in (ax.get_xticklabels() + ax.get_yticklabels()):\n",
    "\tlabel.set_fontsize(9)"
   ]
  },
  {
   "cell_type": "markdown",
   "id": "446b3575-6f00-4580-ad6c-7bc95bd91495",
   "metadata": {},
   "source": [
    "## Määritellään seuraavaksi liuta apufunktioita, joiden avulla dataa käsitellään\n",
    "### Datan droppaus (ei käytössä)"
   ]
  },
  {
   "cell_type": "code",
   "execution_count": 7,
   "id": "27c427bc-cf5a-4c85-b70e-f57d389f876e",
   "metadata": {
    "tags": []
   },
   "outputs": [],
   "source": [
    "def drop_data(data):\n",
    "    \n",
    "    df = data\n",
    "    \n",
    "    df = df.dropna(subset=['Postinumero'])      # Poistetaan postinumerottomat rivit\n",
    "\n",
    "    df = df.drop(df[df[\"Huoneisto\"].isna()].index)\n",
    "\n",
    "    df = df.drop(df[np.array(df[\"Huoneisto\"].str.match(\"auto.*$\", case=False), dtype=bool)].index)\n",
    "\n",
    "    df = df.drop(df[np.logical_and(np.array(df[\"Huoneisto\"].str.match(\"^.*katos.*$\", case=False), dtype=bool),~np.array(df[\"Huoneisto\"].str.match(\"^.*[+,].*$\", case=False), dtype=bool))].index)\n",
    "\n",
    "    df = df.drop(df[np.logical_and(np.array(df[\"Huoneisto\"].str.match(\"^.*piha.*$\", case=False), dtype=bool),~np.array(df[\"Huoneisto\"].str.match(\"^.*[+,].*$\", case=False), dtype=bool))].index) # dropataan rivit, joissa puhutaan autoista, pihasta, katoksesta\n",
    "    \n",
    "    return df\n",
    "\n",
    "#df = drop_data(df)"
   ]
  },
  {
   "cell_type": "markdown",
   "id": "b4e3e31b-8509-45f9-b219-2ea844625ee4",
   "metadata": {},
   "source": [
    "### Etsii huoneiden lukumäärän"
   ]
  },
  {
   "cell_type": "code",
   "execution_count": 8,
   "id": "29bc0060-00dc-46ea-992f-e87dc22de32d",
   "metadata": {
    "tags": []
   },
   "outputs": [],
   "source": [
    "def huoneisto_puhdistaja(data):\n",
    "\n",
    "    # Some have living rooms marked seperately so taking that into account\n",
    "    \n",
    "    huoneiden_lkm = np.zeros(len(data[\"Huoneisto\"]))\n",
    "    data[\"Huoneistotyyppi\"] = data[\"Huoneistotyyppi\"].fillna(\"puuttuva\")\n",
    "    data[\"Huoneisto\"] = data[\"Huoneisto\"].fillna(\"puuttuva\")\n",
    "    \n",
    "    # If marked as yksö => 1\n",
    "    huoneiden_lkm[data[\"Huoneistotyyppi\"].str.match(\"^.*Yksiö.*$\", case=False)] = 1\n",
    "    huoneiden_lkm[data[\"Huoneistotyyppi\"].str.match(\"^.*Kaksi.*$\", case=False)] = 2\n",
    "    huoneiden_lkm[data[\"Huoneistotyyppi\"].str.match(\"^.*Kolme.*$\", case=False)] = 3\n",
    "    \n",
    "    oh_talot = data[\"Huoneisto\"].str.match(\"^.*oh.*$\", case=False)\n",
    "\n",
    "    huoneiden_lkm[np.logical_and(data[\"Huoneisto\"].str.match(\"^.*(2|2h) *- *(3|3h).*$\", case=False), oh_talot)] = 4\n",
    "    huoneiden_lkm[np.logical_and(data[\"Huoneisto\"].str.match(\"^.*(3|3h) *- *(4|4h).*$\", case=False), oh_talot)] = 5\n",
    "    huoneiden_lkm[np.logical_and(data[\"Huoneisto\"].str.match(\"^.*(4|4h) *- *(5|5h).*$\", case=False), oh_talot)] = 6\n",
    "    huoneiden_lkm[np.logical_and(data[\"Huoneisto\"].str.match(\"^.*(5|5h) *- *(6|6h).*$\", case=False), oh_talot)] = 7\n",
    "    huoneiden_lkm[np.logical_and(data[\"Huoneisto\"].str.match(\"^.*(6|6h) *- *(7|7h).*$\", case=False), oh_talot)] = 8\n",
    "    huoneiden_lkm[np.logical_and(data[\"Huoneisto\"].str.match(\"^.*(7|7h) *- *(8|8h).*$\", case=False), oh_talot)] = 9\n",
    "    huoneiden_lkm[np.logical_and(data[\"Huoneisto\"].str.match(\"^.*(8|8h) *- *(9|9h).*$\", case=False), oh_talot)] = 10\n",
    "    huoneiden_lkm[np.logical_and(data[\"Huoneisto\"].str.match(\"^.*(9|9h) *- *(10|10h).*$\", case=False), oh_talot)] = 11\n",
    "    \n",
    "    \n",
    "    huoneiden_lkm[np.logical_and(data[\"Huoneisto\"].str.match(\"^.*(2|2h) *- *(3|3h).*$\", case=False), ~oh_talot)] = 3\n",
    "    huoneiden_lkm[np.logical_and(data[\"Huoneisto\"].str.match(\"^.*(3|3h) *- *(4|4h).*$\", case=False), ~oh_talot)] = 4\n",
    "    huoneiden_lkm[np.logical_and(data[\"Huoneisto\"].str.match(\"^.*(4|4h) *- *(5|5h).*$\", case=False), ~oh_talot)] = 5\n",
    "    huoneiden_lkm[np.logical_and(data[\"Huoneisto\"].str.match(\"^.*(5|5h) *- *(6|6h).*$\", case=False), ~oh_talot)] = 6\n",
    "    huoneiden_lkm[np.logical_and(data[\"Huoneisto\"].str.match(\"^.*(6|6h) *- *(7|7h).*$\", case=False), ~oh_talot)] = 7\n",
    "    huoneiden_lkm[np.logical_and(data[\"Huoneisto\"].str.match(\"^.*(7|7h) *- *(8|8h).*$\", case=False), ~oh_talot)] = 8\n",
    "    huoneiden_lkm[np.logical_and(data[\"Huoneisto\"].str.match(\"^.*(8|8h) *- *(9|9h).*$\", case=False), ~oh_talot)] = 9\n",
    "    huoneiden_lkm[np.logical_and(data[\"Huoneisto\"].str.match(\"^.*(9|9h) *- *(10|10h).*$\", case=False), ~oh_talot)] = 10\n",
    "    \n",
    "    #what does 2-4h mean. But I'll go with the higher value\n",
    "    huoneiden_lkm[data[\"Huoneisto\"].str.match(\"^.*(2|2h) *- *(4|4h).*$\", case=False)] = 4\n",
    "    huoneiden_lkm[data[\"Huoneisto\"].str.match(\"^.*(3|3h) *- *(5|5h).*$\", case=False)] = 5\n",
    "    huoneiden_lkm[data[\"Huoneisto\"].str.match(\"^.*(4|4h) *- *(6|6h).*$\", case=False)] = 6\n",
    "    huoneiden_lkm[data[\"Huoneisto\"].str.match(\"^.*(5|5h) *- *(7|7h).*$\", case=False)] = 7\n",
    "    huoneiden_lkm[data[\"Huoneisto\"].str.match(\"^.*(6|6h) *- *(8|8h).*$\", case=False)] = 8\n",
    "    huoneiden_lkm[data[\"Huoneisto\"].str.match(\"^.*(7|7h) *- *(9|9h).*$\", case=False)] = 9\n",
    "    huoneiden_lkm[data[\"Huoneisto\"].str.match(\"^.*(8|8h) *- *(10|10h).*$\", case=False)] = 10\n",
    "    huoneiden_lkm[data[\"Huoneisto\"].str.match(\"^.*(9|9h) *- *(11|11h).*$\", case=False)] = 11\n",
    "    huoneiden_lkm[data[\"Huoneisto\"].str.match(\"^.*(10|210h) *- *(12|12h).*$\", case=False)] = 12\n",
    "\n",
    "    #Special ones I Found\n",
    "    huoneiden_lkm[data[\"Huoneisto\"].str.match(\"^.*(4|4h) *- *(7|7h).*$\", case=False)] = 7\n",
    "\n",
    "    huoneiden_lkm[data[\"Huoneisto\"].str.match(\"^.*3\\(-4\\)h.*$\", case=False)] = 4\n",
    "    huoneiden_lkm[data[\"Huoneisto\"].str.match(\"^.*4\\(-5\\)h.*$\", case=False)] = 5\n",
    "\n",
    "    huoneiden_lkm[data[\"Huoneisto\"].str.match(\"^.*3 *\\(4\\).*$\", case=False)] = 4\n",
    "    huoneiden_lkm[data[\"Huoneisto\"].str.match(\"^.*4 *\\(5\\).*$\", case=False)] = 5\n",
    "    huoneiden_lkm[data[\"Huoneisto\"].str.match(\"^.*5 *\\(6\\).*$\", case=False)] = 6\n",
    "    \n",
    "    # Those who have living rooms seperately\n",
    "    for i in range(15):\n",
    "        regex=\"^.*%i *h.*$\"%i\n",
    "\n",
    "        # eg. huoneisto has 3h or 3 h anywhere AND huoneiden_lkm hasn't been assigned AND it has \"oh\" somewhere\n",
    "        huoneiden_lkm[np.logical_and(\n",
    "            data[\"Huoneisto\"].str.match(regex, case=False), \n",
    "            np.logical_and(huoneiden_lkm == 0, data[\"Huoneisto\"].str.match(\"^.*oh.*$\", case=False)\n",
    "        ))] = i+1\n",
    "\n",
    "    # With mh mark\n",
    "    for i in range(15):\n",
    "        regex=\"^.*%i *mh.*$\"%i\n",
    "\n",
    "        # eg. huoneisto has 3h or 3 h anywhere AND huoneiden_lkm hasn't been assigned AND it has \"oh\" somewhere\n",
    "        huoneiden_lkm[np.logical_and(\n",
    "            data[\"Huoneisto\"].str.match(regex, case=False), \n",
    "            np.logical_and(huoneiden_lkm == 0, data[\"Huoneisto\"].str.match(\"^.*oh.*$\", case=False)\n",
    "        ))] = i+1\n",
    "\n",
    "    # Non livingrooms\n",
    "    for i in range(15):\n",
    "        regex=\"^.*%i *h.*$\"%i\n",
    "\n",
    "        # eg. huoneisto has 3h or 3 h anywhere AND huoneiden_lkm hasn't been assigned AND it does NOT have \"oh\" somewhere\n",
    "        huoneiden_lkm[np.logical_and(\n",
    "            data[\"Huoneisto\"].str.match(regex, case=False), \n",
    "            np.logical_and(huoneiden_lkm == 0, ~data[\"Huoneisto\"].str.match(\"^.*oh.*$\", case=False)\n",
    "        ))] = i\n",
    "        \n",
    "        # Since there are only \"Neljä huonetta tai enemmän\" left to process, so those with [0-3]mh are probabply 4\n",
    "    for i in range(4):\n",
    "        regex=\"^.*%i *mh.*$\"%i\n",
    "\n",
    "\n",
    "        huoneiden_lkm[np.logical_and(\n",
    "            data[\"Huoneisto\"].str.match(regex, case=False), \n",
    "            np.logical_and(huoneiden_lkm == 0, ~data[\"Huoneisto\"].str.match(\"^.*oh.*$\", case=False)\n",
    "        ))] = i\n",
    "        \n",
    "    # More sepcial ones that I found\n",
    "    huoneiden_lkm[data[\"Huoneisto\"].str.match(\"4,.*$\", case=False)] = 4\n",
    "    huoneiden_lkm[data[\"Huoneisto\"].str.match(\"4\\+.*$\", case=False)] = 4\n",
    "    \n",
    "    return pd.Series(huoneiden_lkm, index = data.index)\n"
   ]
  },
  {
   "cell_type": "markdown",
   "id": "6acd07be-59cc-4231-9683-be0c18d38f29",
   "metadata": {},
   "source": [
    "### Etsii onko huoneistossa saunaa"
   ]
  },
  {
   "cell_type": "code",
   "execution_count": 9,
   "id": "7a6127b2-9814-4604-9708-984ae42a6504",
   "metadata": {
    "tags": []
   },
   "outputs": [],
   "source": [
    "def parsija(text):\n",
    "    text = str(text)\n",
    "    #text = text.replace(\" \", \"\") # Poistaa whitespacet kaikkialta\n",
    "    text = ','.join(text.split(',')[1:]) # Poistaa tavaran ensimmäistä pilkkua\n",
    "    text = text.strip() # poistaa alun ja lopun whitespacet\n",
    "    #text = text.replace(\",\", \" \")\n",
    "    text = re.sub('[^A-Za-z0-9]+', ',', text) # poistaa erikoismerkit ja korvaa ne pilkulla\n",
    "    text = text.split(\",\")  #splitataan pilkkujen mukaan\n",
    "    \n",
    "    temp = []\n",
    "    for sana in text:\n",
    "         temp.append(re.sub(r\"([0-9]+(\\.[0-9]+)?)\",r\" \\1 \", sana).strip())   # lisätään välilyönti numeroiden ja sanojen väliin\n",
    "\n",
    "    text = (temp)\n",
    "    \n",
    "    text = list(filter(None, text)) # Poistetaan tyhäjt stringit listasta\n",
    "\n",
    "    text = pd.DataFrame(text)\n",
    "    dct = {\n",
    "           '^tup.*' : 'tupakeittiö',\n",
    "           '^avok*' : 'avokeittiö',\n",
    "           '^al.*' : 'alkovi', \n",
    "           r'(?i)\\b[s]\\b' : 'sauna',\n",
    "           '^vh.*' : 'vierashuone',\n",
    "           r'(?i)\\b[k]\\b' : 'keittiö',\n",
    "           '^khh.*' : 'kodinoitohuone',\n",
    "           '^kh.*' : 'kylpyhuone',\n",
    "           '^kph.*' : 'kylpyhuone',\n",
    "           '^kp.*' : 'kylpyhuone',\n",
    "           '^kk.*' : 'keittokomero',\n",
    "           '^apuk.*' : 'apukeittiö',\n",
    "           '^var*' : 'varasto',\n",
    "           '^mh*' : 'makuuhuone',           \n",
    "           '^oh*' : 'olohuone',\n",
    "           r'(?i)\\b[kt]\\b' : 'keittiö',\n",
    "           '^parve*' : 'parveke',\n",
    "           r'(?i)\\b[p]\\b' : 'parveke',\n",
    "           r'(?i)\\b[pa]\\b' : 'parveke',\n",
    "           r'(?i)\\b[par]\\b' : 'parveke',\n",
    "           '^las*' : 'lasitettu parveke',\n",
    "           '^pesuh*' : 'pesuhuone',\n",
    "           '^psh*' : 'pesuhuone',\n",
    "           r'(?i)\\b[psh]\\b' : 'pesuhuone',\n",
    "           r'(?i)\\b[kt.]\\b' : 'keittiö',\n",
    "           r'(?i)\\b[kt ]\\b' : 'keittiö',\n",
    "           r'(?i)\\b[th]\\b' : 'työhuone',\n",
    "           \n",
    "           \n",
    "          }\n",
    "\n",
    "    text.replace(dct, regex = True, inplace = True)\n",
    "    \n",
    "    testattava = 0\n",
    "    sanat = 'sauna'\n",
    "    if sanat in str(text).lower():    \n",
    "        testattava = 1\n",
    "    \n",
    "    \n",
    "\n",
    "    return testattava \n",
    "\n",
    "#df.Huoneisto.apply(parsija)\n",
    "    "
   ]
  },
  {
   "cell_type": "markdown",
   "id": "28849508-4e56-4920-bdd5-2686edf7b214",
   "metadata": {},
   "source": [
    "### Splittaa kerrokset kahtia ja siivoaa ne samalla"
   ]
  },
  {
   "cell_type": "code",
   "execution_count": 10,
   "id": "ce8322c9-f9a0-415d-9844-12a889478505",
   "metadata": {
    "tags": []
   },
   "outputs": [],
   "source": [
    "def kerros_split(kerros):\n",
    "    \n",
    "    try:\n",
    "        kerros_data = kerros.split('/')\n",
    "        alempi = int(kerros_data[0])\n",
    "        ylempi = int(kerros_data[1])\n",
    "    except:\n",
    "        alempi, ylempi = 0, 0\n",
    "    \n",
    "    if alempi > ylempi:\n",
    "        alempi, ylempi = 0, 0\n",
    "    if alempi < 0:\n",
    "        alempi, ylempi = 0, 0\n",
    "    if ylempi < 0:\n",
    "        alempi, ylempi = 0, 0\n",
    "    return alempi\n",
    "\n",
    "def kerros_split_max(kerros):\n",
    "    \n",
    "    try:\n",
    "        kerros_data = kerros.split('/')\n",
    "        alempi = int(kerros_data[0])\n",
    "        ylempi = int(kerros_data[1])\n",
    "    except:\n",
    "        alempi, ylempi = 0, 0\n",
    "    \n",
    "    if alempi > ylempi:\n",
    "        alempi, ylempi = 0, 0\n",
    "    if alempi < 0:\n",
    "        alempi, ylempi = 0, 0\n",
    "    if ylempi < 0:\n",
    "        alempi, ylempi = 0, 0\n",
    "    return ylempi"
   ]
  },
  {
   "cell_type": "markdown",
   "id": "ef4b319f-48f7-48fc-83ae-1d6397fdcdc4",
   "metadata": {},
   "source": [
    "## Funktio, joka kutsuu apufunktioita ja palauttaa niiden avulla puhdistetun dataframen"
   ]
  },
  {
   "cell_type": "code",
   "execution_count": 11,
   "id": "9a7aa608-bb30-47f5-b392-8cb9f57bc159",
   "metadata": {
    "tags": []
   },
   "outputs": [],
   "source": [
    "def imputer(df):\n",
    "    \n",
    "    #df = drop_data(df)\n",
    "    \n",
    "    # apufunktio imputoimiseen, etsii yleisimmän entryn listasta\n",
    "    def most_frequent(List):\n",
    "        try:\n",
    "            return max(set(List), key = List.count)\n",
    "        except:\n",
    "            return str(\"NAN\")\n",
    "            \n",
    "            \n",
    "    # Energialuokka\n",
    "    \n",
    "    def e_imputer(e_class):\n",
    "        e_class = str(e_class)\n",
    "        if(e_class[0] == 'A'):\n",
    "            return 1\n",
    "        if(e_class[0] == 'B'):\n",
    "            return 2\n",
    "        if(e_class[0] == 'C'):\n",
    "            return 3\n",
    "        if(e_class[0] == 'D'):\n",
    "            return 4\n",
    "        if(e_class[0] == 'E'):\n",
    "            return 5\n",
    "        if(e_class[0] == 'F'):\n",
    "            return 6\n",
    "        \n",
    "    Energial = df[\"Energialuokka\"].apply(e_imputer).fillna(7)\n",
    "    \n",
    "    \n",
    "    # Kunto\n",
    "    \n",
    "        # Oletetaan, että kunnon puuttuminen on indikaattori kunnosta, eli NAN fillaaminen voisi olla ok päätös. Muuttuja ei korreloinut muiden muuttuhien kanssa.\n",
    "        #Kunto = df[\"Kunto\"].fillna(\"NAN\")\n",
    "    \n",
    "    mask = df[\"Kunto\"].isna() # muodostetaan maski puuttuvista energialuokituksista\n",
    "    puuttuvien_vuodet = list(df[\"Rakennusvuosi\"][mask]) # käytetään maskia lukemaan rakennusvuodet puuttuvilta energialuokitus kohteilta\n",
    "    def kunto_imputer(kunto_class):\n",
    "        if pd.isna(kunto_class) == 1:\n",
    "            if(puuttuvien_vuodet.pop(0) > 2017): # Jos asunnon kunto puuttuu, imputoidaan se hyväksi, jos talo on uudempi kuin 2017, muuten tuntematon kunto\n",
    "                return \"hyvä\"\n",
    "            else:\n",
    "                return \"tyyd.\"\n",
    "        else:\n",
    "            return kunto_class # Jos ei puutu, OK    \n",
    "    \n",
    "    def Kunto_num(kunto):\n",
    "        if kunto == 'hyvä':\n",
    "            return 2\n",
    "        if kunto == 'tyyd.':\n",
    "            return 1\n",
    "        if kunto == 'huono':\n",
    "            return 0\n",
    "        \n",
    "    Kunto = df[\"Kunto\"].apply(kunto_imputer).apply(Kunto_num)\n",
    "    \n",
    "    # Tontti\n",
    "    \n",
    "        # Fillataan tontti talotyypin tonttien mediaanilla\n",
    "    mask = df[\"Tontti\"].isna()\n",
    "    puuttuvien_talot = list(df[\"Talotyyppi\"][mask])    \n",
    "    def t_imputer(t_class):\n",
    "        if pd.isna(t_class) == 1:\n",
    "            return most_frequent(list(df[\"Tontti\"][df.Talotyyppi == puuttuvien_talot.pop(0)].dropna()))\n",
    "        else:\n",
    "            return t_class\n",
    "        \n",
    "    def Tontti_bin(tontti):\n",
    "        if tontti == 'oma':\n",
    "            return 1\n",
    "        if tontti == 'vuokra':\n",
    "            return 0\n",
    "        \n",
    "    Tontti = df[\"Tontti\"].apply(t_imputer).apply(Tontti_bin)\n",
    "    \n",
    "    # Huoneisto\n",
    "    \n",
    "    Huoneisto = df[\"Huoneisto\"].apply(parsija) # testaa saunalle\n",
    "    \n",
    "    Huoneisto = Huoneisto.fillna(\"Puuttuva huoneisto\")\n",
    "    Huone_lkm = huoneisto_puhdistaja(df)\n",
    "    \n",
    "    # Kerrokset\n",
    "\n",
    "    Kerros = df[\"Kerros\"].apply(kerros_split)\n",
    "    Kerros_max = pd.DataFrame(df[\"Kerros\"].apply(kerros_split_max))\n",
    "    \n",
    "    # Hissi\n",
    "    \n",
    "    def Hissi_bin(text):\n",
    "        if text == 'on':\n",
    "            return 1\n",
    "        if text == 'ei':\n",
    "            return 0\n",
    "            \n",
    "    Hissi = df[\"Hissi\"].apply(Hissi_bin)\n",
    "    \n",
    "    # Postinumero\n",
    "    \n",
    "    Postinumero = df[\"Postinumero\"].fillna(np.mean(df.Postinumero))\n",
    "    \n",
    "    # Rakennusvuosi\n",
    "    \n",
    "    Rakennusvuosi = df[\"Rakennusvuosi\"].apply(int)\n",
    "    \n",
    "    # m2\n",
    "    \n",
    "    m2 = df[\"m2\"]\n",
    "    \n",
    "    # Talotyyppi\n",
    "    \n",
    "    Talotyyppi = df[\"Talotyyppi\"]\n",
    "    \n",
    "    to_name = pd.concat([Talotyyppi, Postinumero, Huoneisto, m2,  Rakennusvuosi, Kerros, Kerros_max, Hissi, Kunto, Tontti, Energial, Huone_lkm]\n",
    "                      # df[\"Huoneistotyyppi\"]\n",
    "                      , axis = 1)\n",
    "\n",
    "    to_name.columns = [\"Talotyyppi\", \"Postinumero\", \"Sauna\", \"m2\",  \"Rakennusvuosi\", \"Kerros\", \"Kerros_max\", \"Hissi\", \"Kunto\", \"Tontti\", \"Energial\", \"Huone_lkm\"]\n",
    "    \n",
    "    return to_name\n"
   ]
  },
  {
   "cell_type": "markdown",
   "id": "f358c8b1-3583-45d3-a56c-2553a57375cc",
   "metadata": {},
   "source": [
    "## Column transformerit pipelineä varten"
   ]
  },
  {
   "cell_type": "code",
   "execution_count": null,
   "id": "25c2641b-554e-46a3-8f1d-a02ac1021fc2",
   "metadata": {},
   "outputs": [],
   "source": [
    "ct = make_column_transformer(\n",
    "    (MyCategoricalTransformer(), [\"Postinumero\",\t\"Huoneisto\", \"Huoneistotyyppi\",\t\"Talotyyppi\",\t\"m2\"\t,\"Rakennusvuosi\",\t\"Kerros\"\t,\"Hissi\"\t,\"Kunto\"\t,\"Tontti\"\t,\"Energialuokka\"]),\n",
    "    remainder = 'drop',\n",
    "    n_jobs = -1\n",
    ")\n",
    "\n",
    "# FunctionTransformer(imputer) # testin ajaksi pois\n",
    "\n",
    "# [\"Postinumero\",\t\"Huoneisto\", \"Huoneistotyyppi\",\t\"Talotyyppi\",\t\"m2\"\t,\"Rakennusvuosi\",\t\"Kerros\"\t,\"Hissi\"\t,\"Kunto\"\t,\"Tontti\"\t,\"Energialuokka\"]\n",
    "\n",
    "ct_2 = make_column_transformer(\n",
    "    (OneHotEncoder(sparse = False , handle_unknown = 'ignore'), [0]),\n",
    "    remainder = 'passthrough',\n",
    "    n_jobs = -1\n",
    ")\n",
    "\n",
    "ct_0 = make_column_transformer(\n",
    "    (FunctionTransformer(drop_data), [\"Postinumero\",\t\"Huoneisto\", \"Huoneistotyyppi\",\t\"Talotyyppi\",\t\"m2\"\t,\"Rakennusvuosi\",\t\"Kerros\"\t,\"Hissi\"\t,\"Kunto\"\t,\"Tontti\"\t,\"Energialuokka\"]),\n",
    "    remainder = 'drop',\n",
    "    n_jobs = -1\n",
    ")\n",
    "\n",
    "ct_2.fit_transform(ct.fit_transform(df.sample(50))).shape # testaus transformereista"
   ]
  },
  {
   "cell_type": "markdown",
   "id": "31ce47df-a83f-47a6-838a-94dcd461564f",
   "metadata": {},
   "source": [
    "## Pipelinet, joka puhdistaa datan column transformerien avulla ja sovittaa sitten mallin"
   ]
  },
  {
   "cell_type": "code",
   "execution_count": 135,
   "id": "cddc5a1e-4567-424a-bbd2-9b2f1a626c36",
   "metadata": {},
   "outputs": [],
   "source": [
    "metsä = Pipeline(\n",
    "    [\n",
    "    ('parsing', ct),\n",
    "    ('ohe', ct_2),\n",
    "    ('forest', RandomForestRegressor(n_jobs = -1, n_estimators = 350, max_depth = 20, max_features = 0.8, warm_start = True))\n",
    "    ]\n",
    ")\n",
    "\n",
    "cat = Pipeline(\n",
    "    [\n",
    "    ('parsing', ct),\n",
    "    ('ohe', ct_2),\n",
    "    ('cat', CatBoostRegressor(thread_count=10, od_type='IncToDec', silent = True))\n",
    "    ]\n",
    ")\n",
    "\n",
    "ada = Pipeline(\n",
    "    [\n",
    "    ('parsing', ct),\n",
    "    ('ohe', ct_2),\n",
    "    ('ada', AdaBoostRegressor(n_estimators = 100, learning_rate = 0.05, loss = \"square\"))\n",
    "    ]\n",
    ")\n",
    "\n",
    "gb = Pipeline(\n",
    "    [\n",
    "    ('parsing', ct),\n",
    "    ('ohe', ct_2),\n",
    "    ('gb', GradientBoostingRegressor(n_estimators = 100, learning_rate = 0.05, loss = \"squared_error\", max_depth = 6))\n",
    "    ]\n",
    ")\n"
   ]
  },
  {
   "cell_type": "code",
   "execution_count": 136,
   "id": "81f2a2a4-6af7-4dc0-a36a-8e8a04e77f75",
   "metadata": {},
   "outputs": [
    {
     "name": "stdout",
     "output_type": "stream",
     "text": [
      "0.840646872734207\n",
      "11299.065714285714\n"
     ]
    }
   ],
   "source": [
    "metsä.fit(X_train, y_train)\n",
    "print(metsä.score(X_test, y_test))\n",
    "print(np.mean([est.get_n_leaves() for est in metsä['forest'].estimators_ ]))"
   ]
  },
  {
   "cell_type": "code",
   "execution_count": 137,
   "id": "d49d9250-d66f-4184-836c-245ff74176b5",
   "metadata": {},
   "outputs": [
    {
     "data": {
      "text/plain": [
       "0.8586565823281375"
      ]
     },
     "execution_count": 137,
     "metadata": {},
     "output_type": "execute_result"
    }
   ],
   "source": [
    "cat.fit(X_train, y_train)\n",
    "cat.score(X_test, y_test)"
   ]
  },
  {
   "cell_type": "code",
   "execution_count": 138,
   "id": "9526b57c-d0fd-4150-99a4-e3e6315208cb",
   "metadata": {},
   "outputs": [
    {
     "data": {
      "text/plain": [
       "0.5279875924873694"
      ]
     },
     "execution_count": 138,
     "metadata": {},
     "output_type": "execute_result"
    }
   ],
   "source": [
    "ada.fit(X_train, y_train)\n",
    "ada.score(X_test, y_test)"
   ]
  },
  {
   "cell_type": "code",
   "execution_count": 139,
   "id": "1ed606ef-5657-4759-bd87-ace9a7437e21",
   "metadata": {},
   "outputs": [
    {
     "data": {
      "text/plain": [
       "0.8395457543153713"
      ]
     },
     "execution_count": 139,
     "metadata": {},
     "output_type": "execute_result"
    }
   ],
   "source": [
    "gb.fit(X_train, y_train)\n",
    "gb.score(X_test, y_test)"
   ]
  },
  {
   "cell_type": "markdown",
   "id": "211ac741-6cc1-4ea2-a8ba-50a35667e93c",
   "metadata": {},
   "source": [
    "## Catboostin tarkastelua"
   ]
  },
  {
   "cell_type": "code",
   "execution_count": 133,
   "id": "80a49cbc-844f-48bd-965e-0837f1a7305f",
   "metadata": {},
   "outputs": [
    {
     "data": {
      "text/plain": [
       "0.8597010100433412"
      ]
     },
     "execution_count": 133,
     "metadata": {},
     "output_type": "execute_result"
    }
   ],
   "source": [
    "np.mean(cross_val_score(cat, X_train, y_train, n_jobs=-1)) # cross-val R^2 on train data"
   ]
  },
  {
   "cell_type": "code",
   "execution_count": 140,
   "id": "31e63423-ecf7-49c9-a77b-0286be65670c",
   "metadata": {},
   "outputs": [
    {
     "data": {
      "text/plain": [
       "0.9281163369110822"
      ]
     },
     "execution_count": 140,
     "metadata": {},
     "output_type": "execute_result"
    }
   ],
   "source": [
    "cat.score(X_train, y_train)"
   ]
  },
  {
   "cell_type": "code",
   "execution_count": 141,
   "id": "a31277c6-c3ea-4a6a-b000-a35739cc93b5",
   "metadata": {},
   "outputs": [
    {
     "data": {
      "text/plain": [
       "1000"
      ]
     },
     "execution_count": 141,
     "metadata": {},
     "output_type": "execute_result"
    }
   ],
   "source": [
    "cat['cat'].tree_count_"
   ]
  },
  {
   "cell_type": "code",
   "execution_count": 142,
   "id": "4db5cbe1-b161-400b-8351-e2e92fc251d3",
   "metadata": {},
   "outputs": [
    {
     "data": {
      "text/plain": [
       "0.06638900190591812"
      ]
     },
     "execution_count": 142,
     "metadata": {},
     "output_type": "execute_result"
    }
   ],
   "source": [
    "cat['cat'].learning_rate_"
   ]
  },
  {
   "cell_type": "code",
   "execution_count": 143,
   "id": "7cda1bd3-c8b1-40f6-b553-df9466962540",
   "metadata": {},
   "outputs": [],
   "source": [
    "importance = cat['cat'].feature_importances_\n",
    " \n",
    "names = [\"taloO\", \"taloR\", \"taloK\", \"Postinumero\", \"Sauna\", \"m2\",  \"Rakennusvuosi\", \"Kerros\", \"Kerros_max\", \"Hissi\", \"Kunto\", \"Tontti\", \"Energial\", \"Huone_lkm\"]"
   ]
  },
  {
   "cell_type": "code",
   "execution_count": 144,
   "id": "cdec0882-5445-4eef-85ff-e2ee6ffb29ff",
   "metadata": {},
   "outputs": [
    {
     "data": {
      "image/png": "[encoded data removed]",
      "text/plain": [
       "<Figure size 1500x600 with 1 Axes>"
      ]
     },
     "metadata": {},
     "output_type": "display_data"
    }
   ],
   "source": [
    "fig, ax = plt.subplots(figsize=(15, 6))\n",
    "plt.bar(names, importance)\n",
    "#plt.rcParams['font.size'] = '16'\n",
    "for label in (ax.get_xticklabels() + ax.get_yticklabels()):\n",
    "\tlabel.set_fontsize(9)"
   ]
  },
  {
   "cell_type": "markdown",
   "id": "303e3b70-a87c-4b78-aeda-13304023301b",
   "metadata": {},
   "source": [
    "## Mallien pikkelöinti ensemble mallia varten"
   ]
  },
  {
   "cell_type": "code",
   "execution_count": 112,
   "id": "dadeee1d-860c-416c-aba3-746a2b42a37a",
   "metadata": {},
   "outputs": [],
   "source": [
    "filename = 'CatBoost_JR_finalized_model.mod' \n",
    "\n",
    "# save the model to disk\n",
    "\n",
    "pickle.dump(cat, open(filename, 'wb'))\n",
    "\n",
    "# load the model from disk\n",
    "\n",
    "loaded_model = pickle.load(open(filename, 'rb'))"
   ]
  },
  {
   "cell_type": "code",
   "execution_count": 107,
   "id": "7ae1bddd-a80f-45a9-b757-e6d1ba5972cc",
   "metadata": {},
   "outputs": [],
   "source": [
    "filename = 'RandomForest_JR_finalized_model.mod' \n",
    "\n",
    "# save the model to disk\n",
    "\n",
    "pickle.dump(metsä, open(filename, 'wb'))\n",
    "\n",
    "# load the model from disk\n",
    "\n",
    "loaded_model = pickle.load(open(filename, 'rb'))"
   ]
  },
  {
   "cell_type": "code",
   "execution_count": 127,
   "id": "5f3e97b1-408c-4bbd-a790-5016701890c2",
   "metadata": {},
   "outputs": [],
   "source": [
    "filename = 'GB_JR.mod' \n",
    "\n",
    "# save the model to disk\n",
    "\n",
    "pickle.dump(gb, open(filename, 'wb'))\n",
    "\n",
    "# load the model from disk\n",
    "\n",
    "loaded_model = pickle.load(open(filename, 'rb'))"
   ]
  }
 ],
 "metadata": {
  "kernelspec": {
   "display_name": "Python 3 (ipykernel)",
   "language": "python",
   "name": "python3"
  },
  "language_info": {
   "codemirror_mode": {
    "name": "ipython",
    "version": 3
   },
   "file_extension": ".py",
   "mimetype": "text/x-python",
   "name": "python",
   "nbconvert_exporter": "python",
   "pygments_lexer": "ipython3",
   "version": "3.9.13"
  }
 },
 "nbformat": 4,
 "nbformat_minor": 5
}
