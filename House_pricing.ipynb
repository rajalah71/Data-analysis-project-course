{
 "cells": [
  {
   "cell_type": "markdown",
   "id": "f1acefca-6023-4a02-b820-e21ec09e18dd",
   "metadata": {},
   "source": [
    "## Datan luku ja visualisointi"
   ]
  },
  {
   "cell_type": "code",
   "execution_count": 104,
   "id": "3dba32c3-bc9c-4bdc-aa3c-febcd395dea1",
   "metadata": {},
   "outputs": [],
   "source": [
    "import pandas as pd\n",
    "import numpy as np\n",
    "import re\n",
    "import matplotlib.pyplot as plt\n",
    "from sklearn.pipeline import Pipeline\n",
    "from sklearn.preprocessing import StandardScaler\n",
    "from sklearn.model_selection import train_test_split\n",
    "from sklearn.preprocessing import FunctionTransformer\n",
    "from sklearn.compose import ColumnTransformer\n",
    "from sklearn.compose import make_column_transformer\n",
    "from sklearn.impute import SimpleImputer\n",
    "from sklearn.preprocessing import OneHotEncoder\n",
    "from sklearn.ensemble import RandomForestRegressor\n",
    "from catboost import CatBoostRegressor, Pool\n",
    "from sklearn.model_selection import cross_val_score"
   ]
  },
  {
   "cell_type": "code",
   "execution_count": 2,
   "id": "46fd73d6-e39b-45a5-8da4-64705bb4ae3a",
   "metadata": {},
   "outputs": [],
   "source": [
    "df = pd.read_csv(\"asuntojen_hintatiedot_postinumeroilla.csv\", \n",
    "                 na_values = \"\\xa0\",\n",
    "                 encoding='UTF-8')\n",
    "#df[\"Huoneiden_lkm\"] = \"\"\n",
    "\n",
    "df = df.dropna(subset=['Postinumero'])      # Poistetaan postinumerottomat rivit\n",
    "\n",
    "df = df.drop(df[df[\"Huoneisto\"].isna()].index)\n",
    "\n",
    "df = df.drop(df[np.array(df[\"Huoneisto\"].str.match(\"auto.*$\", case=False), dtype=bool)].index)\n",
    "\n",
    "df = df.drop(df[np.logical_and(np.array(df[\"Huoneisto\"].str.match(\"^.*katos.*$\", case=False), dtype=bool),~np.array(df[\"Huoneisto\"].str.match(\"^.*[+,].*$\", case=False), dtype=bool))].index)\n",
    "\n",
    "df = df.drop(df[np.logical_and(np.array(df[\"Huoneisto\"].str.match(\"^.*piha.*$\", case=False), dtype=bool),~np.array(df[\"Huoneisto\"].str.match(\"^.*[+,].*$\", case=False), dtype=bool))].index) # dropataan rivit, joissa puhutaan autoista, pihasta, katoksesta"
   ]
  },
  {
   "cell_type": "code",
   "execution_count": 139,
   "id": "a5417026-903c-4219-8d4e-e0185d22fb33",
   "metadata": {},
   "outputs": [],
   "source": [
    "#df.head()"
   ]
  },
  {
   "cell_type": "code",
   "execution_count": 4,
   "id": "6a7bd60f-f4a0-4e56-8558-e02e833d5cbd",
   "metadata": {},
   "outputs": [
    {
     "data": {
      "text/plain": [
       "24704"
      ]
     },
     "execution_count": 4,
     "metadata": {},
     "output_type": "execute_result"
    }
   ],
   "source": [
    "len(df)"
   ]
  },
  {
   "cell_type": "code",
   "execution_count": 119,
   "id": "59c0d803-a102-4b3f-a37d-5db62212002a",
   "metadata": {},
   "outputs": [
    {
     "data": {
      "image/png": "[encoded data removed]",
      "text/plain": [
       "<Figure size 1500x600 with 1 Axes>"
      ]
     },
     "metadata": {},
     "output_type": "display_data"
    }
   ],
   "source": [
    "missing = []\n",
    "for column in df:\n",
    "    missing.append(df[column].isna().sum()/ (len(df.index)))\n",
    "\n",
    "fig, ax = plt.subplots(figsize=(15, 6))\n",
    "plt.bar(df.columns, missing)\n",
    "#plt.rcParams['font.size'] = '16'\n",
    "for label in (ax.get_xticklabels() + ax.get_yticklabels()):\n",
    "\tlabel.set_fontsize(9)"
   ]
  },
  {
   "cell_type": "markdown",
   "id": "446b3575-6f00-4580-ad6c-7bc95bd91495",
   "metadata": {},
   "source": [
    "## Määritellään seuraavaksi liuta apufunktioita, joiden avulla dataa käsitellään"
   ]
  },
  {
   "cell_type": "code",
   "execution_count": 10,
   "id": "29bc0060-00dc-46ea-992f-e87dc22de32d",
   "metadata": {
    "tags": []
   },
   "outputs": [],
   "source": [
    "def huoneisto_puhdistaja(data):\n",
    "\n",
    "    # Some have living rooms marked seperately so taking that into account\n",
    "    \n",
    "    huoneiden_lkm = np.zeros(len(data[\"Huoneisto\"]))\n",
    "    \n",
    "    # If marked as yksö => 1\n",
    "    huoneiden_lkm[data[\"Huoneistotyyppi\"].str.match(\"^.*Yksiö.*$\", case=False)] = 1\n",
    "    huoneiden_lkm[data[\"Huoneistotyyppi\"].str.match(\"^.*Kaksi.*$\", case=False)] = 2\n",
    "    huoneiden_lkm[data[\"Huoneistotyyppi\"].str.match(\"^.*Kolme.*$\", case=False)] = 3\n",
    "    \n",
    "    oh_talot = data[\"Huoneisto\"].str.match(\"^.*oh.*$\", case=False)\n",
    "\n",
    "    huoneiden_lkm[np.logical_and(data[\"Huoneisto\"].str.match(\"^.*(2|2h) *- *(3|3h).*$\", case=False), oh_talot)] = 4\n",
    "    huoneiden_lkm[np.logical_and(data[\"Huoneisto\"].str.match(\"^.*(3|3h) *- *(4|4h).*$\", case=False), oh_talot)] = 5\n",
    "    huoneiden_lkm[np.logical_and(data[\"Huoneisto\"].str.match(\"^.*(4|4h) *- *(5|5h).*$\", case=False), oh_talot)] = 6\n",
    "    huoneiden_lkm[np.logical_and(data[\"Huoneisto\"].str.match(\"^.*(5|5h) *- *(6|6h).*$\", case=False), oh_talot)] = 7\n",
    "    huoneiden_lkm[np.logical_and(data[\"Huoneisto\"].str.match(\"^.*(6|6h) *- *(7|7h).*$\", case=False), oh_talot)] = 8\n",
    "    huoneiden_lkm[np.logical_and(data[\"Huoneisto\"].str.match(\"^.*(7|7h) *- *(8|8h).*$\", case=False), oh_talot)] = 9\n",
    "    huoneiden_lkm[np.logical_and(data[\"Huoneisto\"].str.match(\"^.*(8|8h) *- *(9|9h).*$\", case=False), oh_talot)] = 10\n",
    "    huoneiden_lkm[np.logical_and(data[\"Huoneisto\"].str.match(\"^.*(9|9h) *- *(10|10h).*$\", case=False), oh_talot)] = 11\n",
    "    \n",
    "    \n",
    "    huoneiden_lkm[np.logical_and(data[\"Huoneisto\"].str.match(\"^.*(2|2h) *- *(3|3h).*$\", case=False), ~oh_talot)] = 3\n",
    "    huoneiden_lkm[np.logical_and(data[\"Huoneisto\"].str.match(\"^.*(3|3h) *- *(4|4h).*$\", case=False), ~oh_talot)] = 4\n",
    "    huoneiden_lkm[np.logical_and(data[\"Huoneisto\"].str.match(\"^.*(4|4h) *- *(5|5h).*$\", case=False), ~oh_talot)] = 5\n",
    "    huoneiden_lkm[np.logical_and(data[\"Huoneisto\"].str.match(\"^.*(5|5h) *- *(6|6h).*$\", case=False), ~oh_talot)] = 6\n",
    "    huoneiden_lkm[np.logical_and(data[\"Huoneisto\"].str.match(\"^.*(6|6h) *- *(7|7h).*$\", case=False), ~oh_talot)] = 7\n",
    "    huoneiden_lkm[np.logical_and(data[\"Huoneisto\"].str.match(\"^.*(7|7h) *- *(8|8h).*$\", case=False), ~oh_talot)] = 8\n",
    "    huoneiden_lkm[np.logical_and(data[\"Huoneisto\"].str.match(\"^.*(8|8h) *- *(9|9h).*$\", case=False), ~oh_talot)] = 9\n",
    "    huoneiden_lkm[np.logical_and(data[\"Huoneisto\"].str.match(\"^.*(9|9h) *- *(10|10h).*$\", case=False), ~oh_talot)] = 10\n",
    "    \n",
    "    #wtf does 2-4h mean. But I'll go with the higher value\n",
    "    huoneiden_lkm[data[\"Huoneisto\"].str.match(\"^.*(2|2h) *- *(4|4h).*$\", case=False)] = 4\n",
    "    huoneiden_lkm[data[\"Huoneisto\"].str.match(\"^.*(3|3h) *- *(5|5h).*$\", case=False)] = 5\n",
    "    huoneiden_lkm[data[\"Huoneisto\"].str.match(\"^.*(4|4h) *- *(6|6h).*$\", case=False)] = 6\n",
    "    huoneiden_lkm[data[\"Huoneisto\"].str.match(\"^.*(5|5h) *- *(7|7h).*$\", case=False)] = 7\n",
    "    huoneiden_lkm[data[\"Huoneisto\"].str.match(\"^.*(6|6h) *- *(8|8h).*$\", case=False)] = 8\n",
    "    huoneiden_lkm[data[\"Huoneisto\"].str.match(\"^.*(7|7h) *- *(9|9h).*$\", case=False)] = 9\n",
    "    huoneiden_lkm[data[\"Huoneisto\"].str.match(\"^.*(8|8h) *- *(10|10h).*$\", case=False)] = 10\n",
    "    huoneiden_lkm[data[\"Huoneisto\"].str.match(\"^.*(9|9h) *- *(11|11h).*$\", case=False)] = 11\n",
    "    huoneiden_lkm[data[\"Huoneisto\"].str.match(\"^.*(10|210h) *- *(12|12h).*$\", case=False)] = 12\n",
    "\n",
    "    #Special ones I Found\n",
    "    huoneiden_lkm[data[\"Huoneisto\"].str.match(\"^.*(4|4h) *- *(7|7h).*$\", case=False)] = 7\n",
    "\n",
    "    huoneiden_lkm[data[\"Huoneisto\"].str.match(\"^.*3\\(-4\\)h.*$\", case=False)] = 4\n",
    "    huoneiden_lkm[data[\"Huoneisto\"].str.match(\"^.*4\\(-5\\)h.*$\", case=False)] = 5\n",
    "\n",
    "    huoneiden_lkm[data[\"Huoneisto\"].str.match(\"^.*3 *\\(4\\).*$\", case=False)] = 4\n",
    "    huoneiden_lkm[data[\"Huoneisto\"].str.match(\"^.*4 *\\(5\\).*$\", case=False)] = 5\n",
    "    huoneiden_lkm[data[\"Huoneisto\"].str.match(\"^.*5 *\\(6\\).*$\", case=False)] = 6\n",
    "    \n",
    "    # Those who have living rooms seperately\n",
    "    for i in range(15):\n",
    "        regex=\"^.*%i *h.*$\"%i\n",
    "\n",
    "        # eg. huoneisto has 3h or 3 h anywhere AND huoneiden_lkm hasn't been assigned AND it has \"oh\" somewhere\n",
    "        huoneiden_lkm[np.logical_and(\n",
    "            data[\"Huoneisto\"].str.match(regex, case=False), \n",
    "            np.logical_and(huoneiden_lkm == 0, data[\"Huoneisto\"].str.match(\"^.*oh.*$\", case=False)\n",
    "        ))] = i+1\n",
    "\n",
    "    # With mh mark\n",
    "    for i in range(15):\n",
    "        regex=\"^.*%i *mh.*$\"%i\n",
    "\n",
    "        # eg. huoneisto has 3h or 3 h anywhere AND huoneiden_lkm hasn't been assigned AND it has \"oh\" somewhere\n",
    "        huoneiden_lkm[np.logical_and(\n",
    "            data[\"Huoneisto\"].str.match(regex, case=False), \n",
    "            np.logical_and(huoneiden_lkm == 0, data[\"Huoneisto\"].str.match(\"^.*oh.*$\", case=False)\n",
    "        ))] = i+1\n",
    "\n",
    "    # Non livingrooms\n",
    "    for i in range(15):\n",
    "        regex=\"^.*%i *h.*$\"%i\n",
    "\n",
    "        # eg. huoneisto has 3h or 3 h anywhere AND huoneiden_lkm hasn't been assigned AND it does NOT have \"oh\" somewhere\n",
    "        huoneiden_lkm[np.logical_and(\n",
    "            data[\"Huoneisto\"].str.match(regex, case=False), \n",
    "            np.logical_and(huoneiden_lkm == 0, ~data[\"Huoneisto\"].str.match(\"^.*oh.*$\", case=False)\n",
    "        ))] = i\n",
    "        \n",
    "        # Since there are only \"Neljä huonetta tai enemmän\" left to process, so those with [0-3]mh are probabply 4\n",
    "    for i in range(4):\n",
    "        regex=\"^.*%i *mh.*$\"%i\n",
    "\n",
    "\n",
    "        huoneiden_lkm[np.logical_and(\n",
    "            data[\"Huoneisto\"].str.match(regex, case=False), \n",
    "            np.logical_and(huoneiden_lkm == 0, ~data[\"Huoneisto\"].str.match(\"^.*oh.*$\", case=False)\n",
    "        ))] = i\n",
    "        \n",
    "    # More sepcial ones that I found\n",
    "    huoneiden_lkm[data[\"Huoneisto\"].str.match(\"4,.*$\", case=False)] = 4\n",
    "    huoneiden_lkm[data[\"Huoneisto\"].str.match(\"4\\+.*$\", case=False)] = 4\n",
    "    \n",
    "    return pd.Series(huoneiden_lkm, index = data.index)\n"
   ]
  },
  {
   "cell_type": "code",
   "execution_count": 11,
   "id": "7a6127b2-9814-4604-9708-984ae42a6504",
   "metadata": {
    "tags": []
   },
   "outputs": [],
   "source": [
    "def parsija(text):\n",
    "    text = str(text)\n",
    "    #text = text.replace(\" \", \"\") # Poistaa whitespacet kaikkialta\n",
    "    text = ','.join(text.split(',')[1:]) # Poistaa tavaran ensimmäistä pilkkua\n",
    "    text = text.strip() # poistaa alun ja lopun whitespacet\n",
    "    #text = text.replace(\",\", \" \")\n",
    "    text = re.sub('[^A-Za-z0-9]+', ',', text) # poistaa erikoismerkit ja korvaa ne pilkulla\n",
    "    text = text.split(\",\")  #splitataan pilkkujen mukaan\n",
    "    \n",
    "    temp = []\n",
    "    for sana in text:\n",
    "         temp.append(re.sub(r\"([0-9]+(\\.[0-9]+)?)\",r\" \\1 \", sana).strip())   # lisätään välilyönti numeroiden ja sanojen väliin\n",
    "\n",
    "    text = (temp)\n",
    "    \n",
    "    text = list(filter(None, text)) # Poistetaan tyhäjt stringit listasta\n",
    "\n",
    "    text = pd.DataFrame(text)\n",
    "    dct = {\n",
    "           '^tup.*' : 'tupakeittiö',\n",
    "           '^avok*' : 'avokeittiö',\n",
    "           '^al.*' : 'alkovi', \n",
    "           r'(?i)\\b[s]\\b' : 'sauna',\n",
    "           '^vh.*' : 'vierashuone',\n",
    "           r'(?i)\\b[k]\\b' : 'keittiö',\n",
    "           '^khh.*' : 'kodinoitohuone',\n",
    "           '^kh.*' : 'kylpyhuone',\n",
    "           '^kph.*' : 'kylpyhuone',\n",
    "           '^kp.*' : 'kylpyhuone',\n",
    "           '^kk.*' : 'keittokomero',\n",
    "           '^apuk.*' : 'apukeittiö',\n",
    "           '^var*' : 'varasto',\n",
    "           '^mh*' : 'makuuhuone',           \n",
    "           '^oh*' : 'olohuone',\n",
    "           r'(?i)\\b[kt]\\b' : 'keittiö',\n",
    "           '^parve*' : 'parveke',\n",
    "           r'(?i)\\b[p]\\b' : 'parveke',\n",
    "           r'(?i)\\b[pa]\\b' : 'parveke',\n",
    "           r'(?i)\\b[par]\\b' : 'parveke',\n",
    "           '^las*' : 'lasitettu parveke',\n",
    "           '^pesuh*' : 'pesuhuone',\n",
    "           '^psh*' : 'pesuhuone',\n",
    "           r'(?i)\\b[psh]\\b' : 'pesuhuone',\n",
    "           r'(?i)\\b[kt.]\\b' : 'keittiö',\n",
    "           r'(?i)\\b[kt ]\\b' : 'keittiö',\n",
    "           r'(?i)\\b[th]\\b' : 'työhuone',\n",
    "           \n",
    "           \n",
    "          }\n",
    "\n",
    "    text.replace(dct, regex = True, inplace = True)\n",
    "    \n",
    "    testattava = 0\n",
    "    sanat = 'sauna'\n",
    "    if sanat in str(text).lower():    \n",
    "        testattava = 1\n",
    "    \n",
    "    \n",
    "\n",
    "    return testattava \n",
    "\n",
    "#df.Huoneisto.apply(parsija)\n",
    "    "
   ]
  },
  {
   "cell_type": "code",
   "execution_count": 12,
   "id": "ce8322c9-f9a0-415d-9844-12a889478505",
   "metadata": {},
   "outputs": [],
   "source": [
    "def kerros_split(kerros):\n",
    "    \n",
    "    try:\n",
    "        kerros_data = kerros.split('/')\n",
    "        alempi = int(kerros_data[0])\n",
    "        ylempi = int(kerros_data[1])\n",
    "    except:\n",
    "        alempi, ylempi = 0, 0\n",
    "    \n",
    "    if alempi > ylempi:\n",
    "        alempi, ylempi = 0, 0\n",
    "    if alempi < 0:\n",
    "        alempi, ylempi = 0, 0\n",
    "    if ylempi < 0:\n",
    "        alempi, ylempi = 0, 0\n",
    "    return alempi\n",
    "\n",
    "def kerros_split_max(kerros):\n",
    "    \n",
    "    try:\n",
    "        kerros_data = kerros.split('/')\n",
    "        alempi = int(kerros_data[0])\n",
    "        ylempi = int(kerros_data[1])\n",
    "    except:\n",
    "        alempi, ylempi = 0, 0\n",
    "    \n",
    "    if alempi > ylempi:\n",
    "        alempi, ylempi = 0, 0\n",
    "    if alempi < 0:\n",
    "        alempi, ylempi = 0, 0\n",
    "    if ylempi < 0:\n",
    "        alempi, ylempi = 0, 0\n",
    "    return ylempi"
   ]
  },
  {
   "cell_type": "markdown",
   "id": "ef4b319f-48f7-48fc-83ae-1d6397fdcdc4",
   "metadata": {},
   "source": [
    "## Funktio, joka kutsuu apufunktioita ja palauttaa niiden avulla puhdistetun dataframen"
   ]
  },
  {
   "cell_type": "code",
   "execution_count": 65,
   "id": "9a7aa608-bb30-47f5-b392-8cb9f57bc159",
   "metadata": {},
   "outputs": [],
   "source": [
    "def imputer(df):\n",
    "    \n",
    "    # apufunktio imputoimiseen, etsii yleisimmän entryn listasta\n",
    "    def most_frequent(List):\n",
    "        try:\n",
    "            return max(set(List), key = List.count)\n",
    "        except:\n",
    "            return str(\"NAN\")\n",
    "            \n",
    "            \n",
    "    # Energialuokka\n",
    "    \n",
    "    def e_imputer(e_class):\n",
    "        e_class = str(e_class)\n",
    "        if(e_class[0] == 'A'):\n",
    "            return 1\n",
    "        if(e_class[0] == 'B'):\n",
    "            return 2\n",
    "        if(e_class[0] == 'C'):\n",
    "            return 3\n",
    "        if(e_class[0] == 'D'):\n",
    "            return 4\n",
    "        if(e_class[0] == 'E'):\n",
    "            return 5\n",
    "        if(e_class[0] == 'F'):\n",
    "            return 6\n",
    "        \n",
    "    Energial = df[\"Energialuokka\"].apply(e_imputer).fillna(7)\n",
    "    \n",
    "    \n",
    "    # Kunto\n",
    "    \n",
    "        # Oletetaan, että kunnon puuttuminen on indikaattori kunnosta, eli NAN fillaaminen voisi olla ok päätös. Muuttuja ei korreloinut muiden muuttuhien kanssa.\n",
    "        #Kunto = df[\"Kunto\"].fillna(\"NAN\")\n",
    "    \n",
    "    mask = df[\"Kunto\"].isna() # muodostetaan maski puuttuvista energialuokituksista\n",
    "    puuttuvien_vuodet = list(df[\"Rakennusvuosi\"][mask]) # käytetään maskia lukemaan rakennusvuodet puuttuvilta energialuokitus kohteilta\n",
    "    def kunto_imputer(kunto_class):\n",
    "        if pd.isna(kunto_class) == 1:\n",
    "            if(puuttuvien_vuodet.pop(0) > 2017): # Jos asunnon kunto puuttuu, imputoidaan se hyväksi, jos talo on uudempi kuin 2017, muuten tuntematon kunto\n",
    "                return \"hyvä\"\n",
    "            else:\n",
    "                return \"tyyd.\"\n",
    "        else:\n",
    "            return kunto_class # Jos ei puutu, OK    \n",
    "    \n",
    "    def Kunto_num(kunto):\n",
    "        if kunto == 'hyvä':\n",
    "            return 2\n",
    "        if kunto == 'tyyd.':\n",
    "            return 1\n",
    "        if kunto == 'huono':\n",
    "            return 0\n",
    "        \n",
    "    Kunto = df[\"Kunto\"].apply(kunto_imputer).apply(Kunto_num)\n",
    "    \n",
    "    # Tontti\n",
    "    \n",
    "        # Fillataan tontti talotyypin tonttien mediaanilla\n",
    "    mask = df[\"Tontti\"].isna()\n",
    "    puuttuvien_talot = list(df[\"Talotyyppi\"][mask])    \n",
    "    def t_imputer(t_class):\n",
    "        if pd.isna(t_class) == 1:\n",
    "            return most_frequent(list(df[\"Tontti\"][df.Talotyyppi == puuttuvien_talot.pop(0)].dropna()))\n",
    "        else:\n",
    "            return t_class\n",
    "        \n",
    "    def Tontti_bin(tontti):\n",
    "        if tontti == 'oma':\n",
    "            return 1\n",
    "        if tontti == 'vuokra':\n",
    "            return 0\n",
    "        \n",
    "    Tontti = df[\"Tontti\"].apply(t_imputer).apply(Tontti_bin)\n",
    "    \n",
    "    # Huoneisto\n",
    "    \n",
    "    Huoneisto = df[\"Huoneisto\"].apply(parsija) # testaa saunalle\n",
    "    \n",
    "    Huoneisto = Huoneisto.fillna(\"Puuttuva huoneisto\")\n",
    "    Huone_lkm = huoneisto_puhdistaja(df)\n",
    "    \n",
    "    # Kerrokset\n",
    "\n",
    "    Kerros = df[\"Kerros\"].apply(kerros_split)\n",
    "    Kerros_max = pd.DataFrame(df[\"Kerros\"].apply(kerros_split_max))\n",
    "    \n",
    "    # Hissi\n",
    "    \n",
    "    def Hissi_bin(text):\n",
    "        if text == 'on':\n",
    "            return 1\n",
    "        if text == 'ei':\n",
    "            return 0\n",
    "            \n",
    "    Hissi = df[\"Hissi\"].apply(Hissi_bin)\n",
    "    \n",
    "    # Postinumero\n",
    "    \n",
    "    Postinumero = df[\"Postinumero\"]\n",
    "    \n",
    "    # Rakennusvuosi\n",
    "    \n",
    "    Rakennusvuosi = df[\"Rakennusvuosi\"].apply(int)\n",
    "    \n",
    "    to_name = pd.concat([df[\"Talotyyppi\"], Postinumero, Huoneisto, df[\"m2\"],  Rakennusvuosi, Kerros, Kerros_max, Hissi, Kunto, Tontti, Energial, Huone_lkm]\n",
    "                      # df[\"Huoneistotyyppi\"]\n",
    "                      , axis = 1)\n",
    "\n",
    "    to_name.columns = [\"Talotyyppi\", \"Postinumero\", \"Sauna\", \"m2\",  \"Rakennusvuosi\", \"Kerros\", \"Kerros_max\", \"Hissi\", \"Kunto\", \"Tontti\", \"Energial\", \"Huone_lkm\"]\n",
    "    \n",
    "    return to_name\n"
   ]
  },
  {
   "cell_type": "markdown",
   "id": "f358c8b1-3583-45d3-a56c-2553a57375cc",
   "metadata": {},
   "source": [
    "## Column transformerit pipelineä varten"
   ]
  },
  {
   "cell_type": "code",
   "execution_count": null,
   "id": "25c2641b-554e-46a3-8f1d-a02ac1021fc2",
   "metadata": {},
   "outputs": [],
   "source": [
    "ct = make_column_transformer(\n",
    "    (FunctionTransformer(imputer), [\"Postinumero\",\t\"Huoneisto\", \"Huoneistotyyppi\",\t\"Talotyyppi\",\t\"m2\"\t,\"Rakennusvuosi\",\t\"Kerros\"\t,\"Hissi\"\t,\"Kunto\"\t,\"Tontti\"\t,\"Energialuokka\"]),\n",
    "    remainder = 'drop',\n",
    "    n_jobs = -1\n",
    ")\n",
    "\n",
    "ct_2 = make_column_transformer(\n",
    "    (OneHotEncoder(sparse = False , handle_unknown = 'ignore'), [0]),\n",
    "    remainder = 'passthrough',\n",
    "    n_jobs = -1\n",
    ")\n",
    "\n",
    "ct_2.fit_transform(ct.fit_transform(df.sample(50))) # testaus transformereista"
   ]
  },
  {
   "cell_type": "markdown",
   "id": "31ce47df-a83f-47a6-838a-94dcd461564f",
   "metadata": {},
   "source": [
    "## Pipelinet, joka puhdistaa datan column transformerien avulla ja sovittaa sitten mallin"
   ]
  },
  {
   "cell_type": "code",
   "execution_count": 109,
   "id": "cddc5a1e-4567-424a-bbd2-9b2f1a626c36",
   "metadata": {},
   "outputs": [],
   "source": [
    "metsä = Pipeline(\n",
    "    [\n",
    "    ('parsing', ct),\n",
    "    ('ohe', ct_2),\n",
    "    ('forest', RandomForestRegressor(n_jobs = -1))\n",
    "    ]\n",
    ")\n",
    "\n",
    "cat = Pipeline(\n",
    "    [\n",
    "    ('parsing', ct),\n",
    "    ('ohe', ct_2),\n",
    "    ('cat', CatBoostRegressor(thread_count=10, od_type='IncToDec', silent = True))\n",
    "    ]\n",
    ")\n",
    "\n",
    "#pipe.fit_transform(df.sample(10))"
   ]
  },
  {
   "cell_type": "code",
   "execution_count": 110,
   "id": "f42df21f-d77a-4cd9-a249-96ea663fbdcf",
   "metadata": {},
   "outputs": [],
   "source": [
    "X_train, X_test, y_train, y_test = train_test_split(df[[\"Postinumero\",\t\"Huoneisto\", \"Huoneistotyyppi\",\t\"Talotyyppi\",\t\"m2\"\t,\"Rakennusvuosi\",\t\"Kerros\"\t,\"Hissi\"\t,\"Kunto\"\t,\"Tontti\"\t,\"Energialuokka\"]], df[\"Velaton hinta\"])"
   ]
  },
  {
   "cell_type": "code",
   "execution_count": 111,
   "id": "d49d9250-d66f-4184-836c-245ff74176b5",
   "metadata": {},
   "outputs": [
    {
     "data": {
      "text/html": [
       "<style>#sk-container-id-9 {color: black;background-color: white;}#sk-container-id-9 pre{padding: 0;}#sk-container-id-9 div.sk-toggleable {background-color: white;}#sk-container-id-9 label.sk-toggleable__label {cursor: pointer;display: block;width: 100%;margin-bottom: 0;padding: 0.3em;box-sizing: border-box;text-align: center;}#sk-container-id-9 label.sk-toggleable__label-arrow:before {content: \"▸\";float: left;margin-right: 0.25em;color: #696969;}#sk-container-id-9 label.sk-toggleable__label-arrow:hover:before {color: black;}#sk-container-id-9 div.sk-estimator:hover label.sk-toggleable__label-arrow:before {color: black;}#sk-container-id-9 div.sk-toggleable__content {max-height: 0;max-width: 0;overflow: hidden;text-align: left;background-color: #f0f8ff;}#sk-container-id-9 div.sk-toggleable__content pre {margin: 0.2em;color: black;border-radius: 0.25em;background-color: #f0f8ff;}#sk-container-id-9 input.sk-toggleable__control:checked~div.sk-toggleable__content {max-height: 200px;max-width: 100%;overflow: auto;}#sk-container-id-9 input.sk-toggleable__control:checked~label.sk-toggleable__label-arrow:before {content: \"▾\";}#sk-container-id-9 div.sk-estimator input.sk-toggleable__control:checked~label.sk-toggleable__label {background-color: #d4ebff;}#sk-container-id-9 div.sk-label input.sk-toggleable__control:checked~label.sk-toggleable__label {background-color: #d4ebff;}#sk-container-id-9 input.sk-hidden--visually {border: 0;clip: rect(1px 1px 1px 1px);clip: rect(1px, 1px, 1px, 1px);height: 1px;margin: -1px;overflow: hidden;padding: 0;position: absolute;width: 1px;}#sk-container-id-9 div.sk-estimator {font-family: monospace;background-color: #f0f8ff;border: 1px dotted black;border-radius: 0.25em;box-sizing: border-box;margin-bottom: 0.5em;}#sk-container-id-9 div.sk-estimator:hover {background-color: #d4ebff;}#sk-container-id-9 div.sk-parallel-item::after {content: \"\";width: 100%;border-bottom: 1px solid gray;flex-grow: 1;}#sk-container-id-9 div.sk-label:hover label.sk-toggleable__label {background-color: #d4ebff;}#sk-container-id-9 div.sk-serial::before {content: \"\";position: absolute;border-left: 1px solid gray;box-sizing: border-box;top: 0;bottom: 0;left: 50%;z-index: 0;}#sk-container-id-9 div.sk-serial {display: flex;flex-direction: column;align-items: center;background-color: white;padding-right: 0.2em;padding-left: 0.2em;position: relative;}#sk-container-id-9 div.sk-item {position: relative;z-index: 1;}#sk-container-id-9 div.sk-parallel {display: flex;align-items: stretch;justify-content: center;background-color: white;position: relative;}#sk-container-id-9 div.sk-item::before, #sk-container-id-9 div.sk-parallel-item::before {content: \"\";position: absolute;border-left: 1px solid gray;box-sizing: border-box;top: 0;bottom: 0;left: 50%;z-index: -1;}#sk-container-id-9 div.sk-parallel-item {display: flex;flex-direction: column;z-index: 1;position: relative;background-color: white;}#sk-container-id-9 div.sk-parallel-item:first-child::after {align-self: flex-end;width: 50%;}#sk-container-id-9 div.sk-parallel-item:last-child::after {align-self: flex-start;width: 50%;}#sk-container-id-9 div.sk-parallel-item:only-child::after {width: 0;}#sk-container-id-9 div.sk-dashed-wrapped {border: 1px dashed gray;margin: 0 0.4em 0.5em 0.4em;box-sizing: border-box;padding-bottom: 0.4em;background-color: white;}#sk-container-id-9 div.sk-label label {font-family: monospace;font-weight: bold;display: inline-block;line-height: 1.2em;}#sk-container-id-9 div.sk-label-container {text-align: center;}#sk-container-id-9 div.sk-container {/* jupyter's `normalize.less` sets `[hidden] { display: none; }` but bootstrap.min.css set `[hidden] { display: none !important; }` so we also need the `!important` here to be able to override the default hidden behavior on the sphinx rendered scikit-learn.org. See: https://github.com/scikit-learn/scikit-learn/issues/21755 */display: inline-block !important;position: relative;}#sk-container-id-9 div.sk-text-repr-fallback {display: none;}</style><div id=\"sk-container-id-9\" class=\"sk-top-container\"><div class=\"sk-text-repr-fallback\"><pre>Pipeline(steps=[(&#x27;parsing&#x27;,\n",
       "                 ColumnTransformer(n_jobs=-1,\n",
       "                                   transformers=[(&#x27;functiontransformer&#x27;,\n",
       "                                                  FunctionTransformer(func=&lt;function imputer at 0x000002BED80FF4C0&gt;),\n",
       "                                                  [&#x27;Postinumero&#x27;, &#x27;Huoneisto&#x27;,\n",
       "                                                   &#x27;Huoneistotyyppi&#x27;,\n",
       "                                                   &#x27;Talotyyppi&#x27;, &#x27;m2&#x27;,\n",
       "                                                   &#x27;Rakennusvuosi&#x27;, &#x27;Kerros&#x27;,\n",
       "                                                   &#x27;Hissi&#x27;, &#x27;Kunto&#x27;, &#x27;Tontti&#x27;,\n",
       "                                                   &#x27;Energialuokka&#x27;])])),\n",
       "                (&#x27;ohe&#x27;,\n",
       "                 ColumnTransformer(n_jobs=-1, remainder=&#x27;passthrough&#x27;,\n",
       "                                   transformers=[(&#x27;onehotencoder&#x27;,\n",
       "                                                  OneHotEncoder(handle_unknown=&#x27;ignore&#x27;,\n",
       "                                                                sparse=False),\n",
       "                                                  [0])])),\n",
       "                (&#x27;cat&#x27;,\n",
       "                 &lt;catboost.core.CatBoostRegressor object at 0x000002BEDCC84F10&gt;)])</pre><b>In a Jupyter environment, please rerun this cell to show the HTML representation or trust the notebook. <br />On GitHub, the HTML representation is unable to render, please try loading this page with nbviewer.org.</b></div><div class=\"sk-container\" hidden><div class=\"sk-item sk-dashed-wrapped\"><div class=\"sk-label-container\"><div class=\"sk-label sk-toggleable\"><input class=\"sk-toggleable__control sk-hidden--visually\" id=\"sk-estimator-id-81\" type=\"checkbox\" ><label for=\"sk-estimator-id-81\" class=\"sk-toggleable__label sk-toggleable__label-arrow\">Pipeline</label><div class=\"sk-toggleable__content\"><pre>Pipeline(steps=[(&#x27;parsing&#x27;,\n",
       "                 ColumnTransformer(n_jobs=-1,\n",
       "                                   transformers=[(&#x27;functiontransformer&#x27;,\n",
       "                                                  FunctionTransformer(func=&lt;function imputer at 0x000002BED80FF4C0&gt;),\n",
       "                                                  [&#x27;Postinumero&#x27;, &#x27;Huoneisto&#x27;,\n",
       "                                                   &#x27;Huoneistotyyppi&#x27;,\n",
       "                                                   &#x27;Talotyyppi&#x27;, &#x27;m2&#x27;,\n",
       "                                                   &#x27;Rakennusvuosi&#x27;, &#x27;Kerros&#x27;,\n",
       "                                                   &#x27;Hissi&#x27;, &#x27;Kunto&#x27;, &#x27;Tontti&#x27;,\n",
       "                                                   &#x27;Energialuokka&#x27;])])),\n",
       "                (&#x27;ohe&#x27;,\n",
       "                 ColumnTransformer(n_jobs=-1, remainder=&#x27;passthrough&#x27;,\n",
       "                                   transformers=[(&#x27;onehotencoder&#x27;,\n",
       "                                                  OneHotEncoder(handle_unknown=&#x27;ignore&#x27;,\n",
       "                                                                sparse=False),\n",
       "                                                  [0])])),\n",
       "                (&#x27;cat&#x27;,\n",
       "                 &lt;catboost.core.CatBoostRegressor object at 0x000002BEDCC84F10&gt;)])</pre></div></div></div><div class=\"sk-serial\"><div class=\"sk-item sk-dashed-wrapped\"><div class=\"sk-label-container\"><div class=\"sk-label sk-toggleable\"><input class=\"sk-toggleable__control sk-hidden--visually\" id=\"sk-estimator-id-82\" type=\"checkbox\" ><label for=\"sk-estimator-id-82\" class=\"sk-toggleable__label sk-toggleable__label-arrow\">parsing: ColumnTransformer</label><div class=\"sk-toggleable__content\"><pre>ColumnTransformer(n_jobs=-1,\n",
       "                  transformers=[(&#x27;functiontransformer&#x27;,\n",
       "                                 FunctionTransformer(func=&lt;function imputer at 0x000002BED80FF4C0&gt;),\n",
       "                                 [&#x27;Postinumero&#x27;, &#x27;Huoneisto&#x27;, &#x27;Huoneistotyyppi&#x27;,\n",
       "                                  &#x27;Talotyyppi&#x27;, &#x27;m2&#x27;, &#x27;Rakennusvuosi&#x27;, &#x27;Kerros&#x27;,\n",
       "                                  &#x27;Hissi&#x27;, &#x27;Kunto&#x27;, &#x27;Tontti&#x27;,\n",
       "                                  &#x27;Energialuokka&#x27;])])</pre></div></div></div><div class=\"sk-parallel\"><div class=\"sk-parallel-item\"><div class=\"sk-item\"><div class=\"sk-label-container\"><div class=\"sk-label sk-toggleable\"><input class=\"sk-toggleable__control sk-hidden--visually\" id=\"sk-estimator-id-83\" type=\"checkbox\" ><label for=\"sk-estimator-id-83\" class=\"sk-toggleable__label sk-toggleable__label-arrow\">functiontransformer</label><div class=\"sk-toggleable__content\"><pre>[&#x27;Postinumero&#x27;, &#x27;Huoneisto&#x27;, &#x27;Huoneistotyyppi&#x27;, &#x27;Talotyyppi&#x27;, &#x27;m2&#x27;, &#x27;Rakennusvuosi&#x27;, &#x27;Kerros&#x27;, &#x27;Hissi&#x27;, &#x27;Kunto&#x27;, &#x27;Tontti&#x27;, &#x27;Energialuokka&#x27;]</pre></div></div></div><div class=\"sk-serial\"><div class=\"sk-item\"><div class=\"sk-estimator sk-toggleable\"><input class=\"sk-toggleable__control sk-hidden--visually\" id=\"sk-estimator-id-84\" type=\"checkbox\" ><label for=\"sk-estimator-id-84\" class=\"sk-toggleable__label sk-toggleable__label-arrow\">FunctionTransformer</label><div class=\"sk-toggleable__content\"><pre>FunctionTransformer(func=&lt;function imputer at 0x000002BED80FF4C0&gt;)</pre></div></div></div></div></div></div></div></div><div class=\"sk-item sk-dashed-wrapped\"><div class=\"sk-label-container\"><div class=\"sk-label sk-toggleable\"><input class=\"sk-toggleable__control sk-hidden--visually\" id=\"sk-estimator-id-85\" type=\"checkbox\" ><label for=\"sk-estimator-id-85\" class=\"sk-toggleable__label sk-toggleable__label-arrow\">ohe: ColumnTransformer</label><div class=\"sk-toggleable__content\"><pre>ColumnTransformer(n_jobs=-1, remainder=&#x27;passthrough&#x27;,\n",
       "                  transformers=[(&#x27;onehotencoder&#x27;,\n",
       "                                 OneHotEncoder(handle_unknown=&#x27;ignore&#x27;,\n",
       "                                               sparse=False),\n",
       "                                 [0])])</pre></div></div></div><div class=\"sk-parallel\"><div class=\"sk-parallel-item\"><div class=\"sk-item\"><div class=\"sk-label-container\"><div class=\"sk-label sk-toggleable\"><input class=\"sk-toggleable__control sk-hidden--visually\" id=\"sk-estimator-id-86\" type=\"checkbox\" ><label for=\"sk-estimator-id-86\" class=\"sk-toggleable__label sk-toggleable__label-arrow\">onehotencoder</label><div class=\"sk-toggleable__content\"><pre>[0]</pre></div></div></div><div class=\"sk-serial\"><div class=\"sk-item\"><div class=\"sk-estimator sk-toggleable\"><input class=\"sk-toggleable__control sk-hidden--visually\" id=\"sk-estimator-id-87\" type=\"checkbox\" ><label for=\"sk-estimator-id-87\" class=\"sk-toggleable__label sk-toggleable__label-arrow\">OneHotEncoder</label><div class=\"sk-toggleable__content\"><pre>OneHotEncoder(handle_unknown=&#x27;ignore&#x27;, sparse=False)</pre></div></div></div></div></div></div><div class=\"sk-parallel-item\"><div class=\"sk-item\"><div class=\"sk-label-container\"><div class=\"sk-label sk-toggleable\"><input class=\"sk-toggleable__control sk-hidden--visually\" id=\"sk-estimator-id-88\" type=\"checkbox\" ><label for=\"sk-estimator-id-88\" class=\"sk-toggleable__label sk-toggleable__label-arrow\">remainder</label><div class=\"sk-toggleable__content\"><pre>[1, 2, 3, 4, 5, 6, 7, 8, 9, 10, 11]</pre></div></div></div><div class=\"sk-serial\"><div class=\"sk-item\"><div class=\"sk-estimator sk-toggleable\"><input class=\"sk-toggleable__control sk-hidden--visually\" id=\"sk-estimator-id-89\" type=\"checkbox\" ><label for=\"sk-estimator-id-89\" class=\"sk-toggleable__label sk-toggleable__label-arrow\">passthrough</label><div class=\"sk-toggleable__content\"><pre>passthrough</pre></div></div></div></div></div></div></div></div><div class=\"sk-item\"><div class=\"sk-estimator sk-toggleable\"><input class=\"sk-toggleable__control sk-hidden--visually\" id=\"sk-estimator-id-90\" type=\"checkbox\" ><label for=\"sk-estimator-id-90\" class=\"sk-toggleable__label sk-toggleable__label-arrow\">CatBoostRegressor</label><div class=\"sk-toggleable__content\"><pre>&lt;catboost.core.CatBoostRegressor object at 0x000002BEDCC84F10&gt;</pre></div></div></div></div></div></div></div>"
      ],
      "text/plain": [
       "Pipeline(steps=[('parsing',\n",
       "                 ColumnTransformer(n_jobs=-1,\n",
       "                                   transformers=[('functiontransformer',\n",
       "                                                  FunctionTransformer(func=<function imputer at 0x000002BED80FF4C0>),\n",
       "                                                  ['Postinumero', 'Huoneisto',\n",
       "                                                   'Huoneistotyyppi',\n",
       "                                                   'Talotyyppi', 'm2',\n",
       "                                                   'Rakennusvuosi', 'Kerros',\n",
       "                                                   'Hissi', 'Kunto', 'Tontti',\n",
       "                                                   'Energialuokka'])])),\n",
       "                ('ohe',\n",
       "                 ColumnTransformer(n_jobs=-1, remainder='passthrough',\n",
       "                                   transformers=[('onehotencoder',\n",
       "                                                  OneHotEncoder(handle_unknown='ignore',\n",
       "                                                                sparse=False),\n",
       "                                                  [0])])),\n",
       "                ('cat',\n",
       "                 <catboost.core.CatBoostRegressor object at 0x000002BEDCC84F10>)])"
      ]
     },
     "execution_count": 111,
     "metadata": {},
     "output_type": "execute_result"
    }
   ],
   "source": [
    "cat.fit(X_train, y_train)"
   ]
  },
  {
   "cell_type": "markdown",
   "id": "211ac741-6cc1-4ea2-a8ba-50a35667e93c",
   "metadata": {},
   "source": [
    "## Mallin tarkastelua"
   ]
  },
  {
   "cell_type": "code",
   "execution_count": 112,
   "id": "80a49cbc-844f-48bd-965e-0837f1a7305f",
   "metadata": {},
   "outputs": [
    {
     "data": {
      "text/plain": [
       "0.8766653295299424"
      ]
     },
     "execution_count": 112,
     "metadata": {},
     "output_type": "execute_result"
    }
   ],
   "source": [
    "np.mean(cross_val_score(cat, X_train, y_train, n_jobs=-1)) # cross-val R^2 on train data"
   ]
  },
  {
   "cell_type": "code",
   "execution_count": 114,
   "id": "31e63423-ecf7-49c9-a77b-0286be65670c",
   "metadata": {},
   "outputs": [
    {
     "data": {
      "text/plain": [
       "0.9431427368587793"
      ]
     },
     "execution_count": 114,
     "metadata": {},
     "output_type": "execute_result"
    }
   ],
   "source": [
    "cat.score(X_train, y_train)"
   ]
  },
  {
   "cell_type": "code",
   "execution_count": 118,
   "id": "fea82661-bd4e-498c-9434-338e404a5db0",
   "metadata": {},
   "outputs": [
    {
     "data": {
      "text/plain": [
       "0.8887603297469718"
      ]
     },
     "execution_count": 118,
     "metadata": {},
     "output_type": "execute_result"
    }
   ],
   "source": [
    "cat.score(X_test, y_test)"
   ]
  },
  {
   "cell_type": "code",
   "execution_count": 138,
   "id": "a31277c6-c3ea-4a6a-b000-a35739cc93b5",
   "metadata": {},
   "outputs": [
    {
     "data": {
      "text/plain": [
       "1000"
      ]
     },
     "execution_count": 138,
     "metadata": {},
     "output_type": "execute_result"
    }
   ],
   "source": [
    "cat['cat'].tree_count_"
   ]
  },
  {
   "cell_type": "code",
   "execution_count": 135,
   "id": "4db5cbe1-b161-400b-8351-e2e92fc251d3",
   "metadata": {},
   "outputs": [
    {
     "data": {
      "text/plain": [
       "0.0649380013346672"
      ]
     },
     "execution_count": 135,
     "metadata": {},
     "output_type": "execute_result"
    }
   ],
   "source": [
    "cat['cat'].learning_rate_"
   ]
  },
  {
   "cell_type": "code",
   "execution_count": 125,
   "id": "7cda1bd3-c8b1-40f6-b553-df9466962540",
   "metadata": {},
   "outputs": [],
   "source": [
    "importance = cat['cat'].feature_importances_\n",
    " \n",
    "names = [\"taloO\", \"taloK\", \"taloR\", \"Postinumero\", \"Sauna\", \"m2\",  \"Rakennusvuosi\", \"Kerros\", \"Kerros_max\", \"Hissi\", \"Kunto\", \"Tontti\", \"Energial\", \"Huone_lkm\"]"
   ]
  },
  {
   "cell_type": "code",
   "execution_count": 129,
   "id": "cdec0882-5445-4eef-85ff-e2ee6ffb29ff",
   "metadata": {},
   "outputs": [
    {
     "data": {
      "image/png": "[encoded data removed]",
      "text/plain": [
       "<Figure size 1500x600 with 1 Axes>"
      ]
     },
     "metadata": {},
     "output_type": "display_data"
    }
   ],
   "source": [
    "fig, ax = plt.subplots(figsize=(15, 6))\n",
    "plt.bar(names, importance)\n",
    "#plt.rcParams['font.size'] = '16'\n",
    "for label in (ax.get_xticklabels() + ax.get_yticklabels()):\n",
    "\tlabel.set_fontsize(9)"
   ]
  },
  {
   "cell_type": "code",
   "execution_count": null,
   "id": "dadeee1d-860c-416c-aba3-746a2b42a37a",
   "metadata": {},
   "outputs": [],
   "source": []
  }
 ],
 "metadata": {
  "kernelspec": {
   "display_name": "Python 3 (ipykernel)",
   "language": "python",
   "name": "python3"
  },
  "language_info": {
   "codemirror_mode": {
    "name": "ipython",
    "version": 3
   },
   "file_extension": ".py",
   "mimetype": "text/x-python",
   "name": "python",
   "nbconvert_exporter": "python",
   "pygments_lexer": "ipython3",
   "version": "3.9.13"
  }
 },
 "nbformat": 4,
 "nbformat_minor": 5
}
