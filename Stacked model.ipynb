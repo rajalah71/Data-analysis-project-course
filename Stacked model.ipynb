{
 "cells": [
  {
   "cell_type": "code",
   "execution_count": 3,
   "id": "dd4edd57-55cf-401f-955d-73ef354f0f37",
   "metadata": {},
   "outputs": [],
   "source": [
    "import pandas as pd\n",
    "import numpy as np\n",
    "import re\n",
    "import matplotlib.pyplot as plt\n",
    "from sklearn.pipeline import Pipeline\n",
    "from sklearn.preprocessing import StandardScaler\n",
    "from sklearn.model_selection import train_test_split\n",
    "from sklearn.preprocessing import FunctionTransformer\n",
    "from sklearn.compose import ColumnTransformer\n",
    "from sklearn.compose import make_column_transformer\n",
    "from sklearn.impute import SimpleImputer\n",
    "from sklearn.preprocessing import OneHotEncoder\n",
    "from sklearn.ensemble import RandomForestRegressor\n",
    "from catboost import CatBoostRegressor, Pool\n",
    "from sklearn.model_selection import cross_val_score\n",
    "from sklearn.neural_network import MLPRegressor\n",
    "import pickle\n",
    "\n",
    "from sklearn.ensemble import StackingRegressor"
   ]
  },
  {
   "cell_type": "code",
   "execution_count": 4,
   "id": "ffc35e8e-fc74-4757-85c9-673a0de783b5",
   "metadata": {},
   "outputs": [],
   "source": [
    "df = pd.read_csv(\"asuntojen_hintatiedot_postinumeroilla.csv\")\n",
    "\n",
    "train, test = train_test_split(df[[\"Postinumero\", \"Kaupunginosa\", \"Kaupunki\", \t\"Huoneisto\", \"Huoneistotyyppi\",\t\"Talotyyppi\",\t\"m2\", \"Velaton hinta\"\t,\"Rakennusvuosi\",\t\"Kerros\"\t,\"Hissi\"\t,\"Kunto\"\t,\"Tontti\"\t,\"Energialuokka\"]], test_size=0.2, train_size=0.8, random_state=2022, shuffle=True, stratify = df[\"Talotyyppi\"])\n",
    "\n",
    "X_train, y_train = train.drop(\"Velaton hinta\", axis = 1), train[\"Velaton hinta\"]\n",
    "X_test, y_test = test.drop(\"Velaton hinta\", axis = 1), test[\"Velaton hinta\"]"
   ]
  },
  {
   "cell_type": "code",
   "execution_count": 5,
   "id": "f88bd485-910a-4421-bfce-a15f048389f2",
   "metadata": {},
   "outputs": [],
   "source": [
    "from JR_preprocess import MyCategoricalTransformer\n",
    "from mrunsten_feature_extraction import FeatureExtraction\n",
    "import mrunsten_feature_extraction\n",
    "from Elias_wrappedRandomForestRegressor import WrappedModelRFR"
   ]
  },
  {
   "cell_type": "code",
   "execution_count": 6,
   "id": "37fde648-3d1e-4cc8-bb6f-c91bbd8ed5ac",
   "metadata": {},
   "outputs": [
    {
     "data": {
      "text/plain": [
       "0.8907802568656519"
      ]
     },
     "execution_count": 6,
     "metadata": {},
     "output_type": "execute_result"
    }
   ],
   "source": [
    "model1 = pickle.load(open('MP_MR.mod', 'rb'))\n",
    "\n",
    "model1.score(X_test, y_test)"
   ]
  },
  {
   "cell_type": "code",
   "execution_count": 7,
   "id": "5438aaf3-c290-4559-88e4-fba2968f1ea3",
   "metadata": {},
   "outputs": [
    {
     "data": {
      "text/plain": [
       "0.8400441484371378"
      ]
     },
     "execution_count": 7,
     "metadata": {},
     "output_type": "execute_result"
    }
   ],
   "source": [
    "model2 = pickle.load(open('RandomForest_JR_finalized_model.mod', 'rb'))\n",
    "\n",
    "model2.score(X_test, y_test)"
   ]
  },
  {
   "cell_type": "code",
   "execution_count": 8,
   "id": "0f36341f-7115-4383-a8b8-39c15f127949",
   "metadata": {},
   "outputs": [
    {
     "data": {
      "text/plain": [
       "0.8608833876569127"
      ]
     },
     "execution_count": 8,
     "metadata": {},
     "output_type": "execute_result"
    }
   ],
   "source": [
    "model3 = pickle.load(open('GB_MR.mod', 'rb'))\n",
    "\n",
    "model3.score(X_test, y_test)"
   ]
  },
  {
   "cell_type": "code",
   "execution_count": 9,
   "id": "e663c79a-403e-4e9b-8a45-d4e26dfecd5b",
   "metadata": {},
   "outputs": [
    {
     "data": {
      "text/plain": [
       "0.8586565823281375"
      ]
     },
     "execution_count": 9,
     "metadata": {},
     "output_type": "execute_result"
    }
   ],
   "source": [
    "model4 = pickle.load(open('CatBoost_JR.mod', 'rb'))\n",
    "\n",
    "model4.score(X_test, y_test)"
   ]
  },
  {
   "cell_type": "code",
   "execution_count": 10,
   "id": "982c9065-7b8e-4744-87d9-71030d9d22e6",
   "metadata": {},
   "outputs": [
    {
     "data": {
      "text/plain": [
       "0.8407985857089598"
      ]
     },
     "execution_count": 10,
     "metadata": {},
     "output_type": "execute_result"
    }
   ],
   "source": [
    "model5 = pickle.load(open('GB_JR.mod', 'rb'))\n",
    "\n",
    "model5.score(X_test, y_test)"
   ]
  },
  {
   "cell_type": "code",
   "execution_count": 11,
   "id": "77b9cf31-f954-4290-9658-2b8e6fe3aadc",
   "metadata": {},
   "outputs": [],
   "source": [
    "stack = StackingRegressor([\n",
    "    ('MP_MR' ,model1),\n",
    "    ('GB_JR' ,model5),\n",
    "    ('GB_MR' ,model3),\n",
    "    ('CatBoost_JR' ,model4),\n",
    "    ],\n",
    "    cv = \"prefit\",\n",
    "    n_jobs = -1,\n",
    "    final_estimator=MLPRegressor()\n",
    "                         )"
   ]
  },
  {
   "cell_type": "code",
   "execution_count": 12,
   "id": "4973b832-6490-4a95-89bf-84f347d20d14",
   "metadata": {},
   "outputs": [
    {
     "data": {
      "text/html": [
       "<style>#sk-container-id-1 {color: black;background-color: white;}#sk-container-id-1 pre{padding: 0;}#sk-container-id-1 div.sk-toggleable {background-color: white;}#sk-container-id-1 label.sk-toggleable__label {cursor: pointer;display: block;width: 100%;margin-bottom: 0;padding: 0.3em;box-sizing: border-box;text-align: center;}#sk-container-id-1 label.sk-toggleable__label-arrow:before {content: \"▸\";float: left;margin-right: 0.25em;color: #696969;}#sk-container-id-1 label.sk-toggleable__label-arrow:hover:before {color: black;}#sk-container-id-1 div.sk-estimator:hover label.sk-toggleable__label-arrow:before {color: black;}#sk-container-id-1 div.sk-toggleable__content {max-height: 0;max-width: 0;overflow: hidden;text-align: left;background-color: #f0f8ff;}#sk-container-id-1 div.sk-toggleable__content pre {margin: 0.2em;color: black;border-radius: 0.25em;background-color: #f0f8ff;}#sk-container-id-1 input.sk-toggleable__control:checked~div.sk-toggleable__content {max-height: 200px;max-width: 100%;overflow: auto;}#sk-container-id-1 input.sk-toggleable__control:checked~label.sk-toggleable__label-arrow:before {content: \"▾\";}#sk-container-id-1 div.sk-estimator input.sk-toggleable__control:checked~label.sk-toggleable__label {background-color: #d4ebff;}#sk-container-id-1 div.sk-label input.sk-toggleable__control:checked~label.sk-toggleable__label {background-color: #d4ebff;}#sk-container-id-1 input.sk-hidden--visually {border: 0;clip: rect(1px 1px 1px 1px);clip: rect(1px, 1px, 1px, 1px);height: 1px;margin: -1px;overflow: hidden;padding: 0;position: absolute;width: 1px;}#sk-container-id-1 div.sk-estimator {font-family: monospace;background-color: #f0f8ff;border: 1px dotted black;border-radius: 0.25em;box-sizing: border-box;margin-bottom: 0.5em;}#sk-container-id-1 div.sk-estimator:hover {background-color: #d4ebff;}#sk-container-id-1 div.sk-parallel-item::after {content: \"\";width: 100%;border-bottom: 1px solid gray;flex-grow: 1;}#sk-container-id-1 div.sk-label:hover label.sk-toggleable__label {background-color: #d4ebff;}#sk-container-id-1 div.sk-serial::before {content: \"\";position: absolute;border-left: 1px solid gray;box-sizing: border-box;top: 0;bottom: 0;left: 50%;z-index: 0;}#sk-container-id-1 div.sk-serial {display: flex;flex-direction: column;align-items: center;background-color: white;padding-right: 0.2em;padding-left: 0.2em;position: relative;}#sk-container-id-1 div.sk-item {position: relative;z-index: 1;}#sk-container-id-1 div.sk-parallel {display: flex;align-items: stretch;justify-content: center;background-color: white;position: relative;}#sk-container-id-1 div.sk-item::before, #sk-container-id-1 div.sk-parallel-item::before {content: \"\";position: absolute;border-left: 1px solid gray;box-sizing: border-box;top: 0;bottom: 0;left: 50%;z-index: -1;}#sk-container-id-1 div.sk-parallel-item {display: flex;flex-direction: column;z-index: 1;position: relative;background-color: white;}#sk-container-id-1 div.sk-parallel-item:first-child::after {align-self: flex-end;width: 50%;}#sk-container-id-1 div.sk-parallel-item:last-child::after {align-self: flex-start;width: 50%;}#sk-container-id-1 div.sk-parallel-item:only-child::after {width: 0;}#sk-container-id-1 div.sk-dashed-wrapped {border: 1px dashed gray;margin: 0 0.4em 0.5em 0.4em;box-sizing: border-box;padding-bottom: 0.4em;background-color: white;}#sk-container-id-1 div.sk-label label {font-family: monospace;font-weight: bold;display: inline-block;line-height: 1.2em;}#sk-container-id-1 div.sk-label-container {text-align: center;}#sk-container-id-1 div.sk-container {/* jupyter's `normalize.less` sets `[hidden] { display: none; }` but bootstrap.min.css set `[hidden] { display: none !important; }` so we also need the `!important` here to be able to override the default hidden behavior on the sphinx rendered scikit-learn.org. See: https://github.com/scikit-learn/scikit-learn/issues/21755 */display: inline-block !important;position: relative;}#sk-container-id-1 div.sk-text-repr-fallback {display: none;}</style><div id=\"sk-container-id-1\" class=\"sk-top-container\"><div class=\"sk-text-repr-fallback\"><pre>StackingRegressor(cv=&#x27;prefit&#x27;,\n",
       "                  estimators=[(&#x27;MP_MR&#x27;,\n",
       "                               Pipeline(steps=[(&#x27;data_preprocessing&#x27;,\n",
       "                                                ColumnTransformer(transformers=[(&#x27;cat_cols&#x27;,\n",
       "                                                                                 Pipeline(steps=[(&#x27;feature_extraction&#x27;,\n",
       "                                                                                                  FeatureExtraction()),\n",
       "                                                                                                 (&#x27;imputer&#x27;,\n",
       "                                                                                                  SimpleImputer(fill_value=&#x27;Tuntematon&#x27;,\n",
       "                                                                                                                strategy=&#x27;constant&#x27;)),\n",
       "                                                                                                 (&#x27;onehot&#x27;,\n",
       "                                                                                                  OneHotEncoder(handle_unknown=&#x27;ignore&#x27;))]),\n",
       "                                                                                 [&#x27;Kaupunki&#x27;,\n",
       "                                                                                  &#x27;Huoneistotyyppi&#x27;,\n",
       "                                                                                  &#x27;Talo...\n",
       "                                                                                  &#x27;Talotyyppi&#x27;,\n",
       "                                                                                  &#x27;m2&#x27;,\n",
       "                                                                                  &#x27;Rakennusvuosi&#x27;,\n",
       "                                                                                  &#x27;Kerros&#x27;,\n",
       "                                                                                  &#x27;Hissi&#x27;,\n",
       "                                                                                  &#x27;Kunto&#x27;,\n",
       "                                                                                  &#x27;Tontti&#x27;,\n",
       "                                                                                  &#x27;Energialuokka&#x27;])])),\n",
       "                                               (&#x27;ohe&#x27;,\n",
       "                                                ColumnTransformer(n_jobs=-1,\n",
       "                                                                  remainder=&#x27;passthrough&#x27;,\n",
       "                                                                  transformers=[(&#x27;onehotencoder&#x27;,\n",
       "                                                                                 OneHotEncoder(handle_unknown=&#x27;ignore&#x27;,\n",
       "                                                                                               sparse=False),\n",
       "                                                                                 [0])])),\n",
       "                                               (&#x27;cat&#x27;,\n",
       "                                                &lt;catboost.core.CatBoostRegressor object at 0x000001B2FCC9B1C0&gt;)]))],\n",
       "                  final_estimator=MLPRegressor(), n_jobs=-1)</pre><b>In a Jupyter environment, please rerun this cell to show the HTML representation or trust the notebook. <br />On GitHub, the HTML representation is unable to render, please try loading this page with nbviewer.org.</b></div><div class=\"sk-container\" hidden><div class=\"sk-item sk-dashed-wrapped\"><div class=\"sk-label-container\"><div class=\"sk-label sk-toggleable\"><input class=\"sk-toggleable__control sk-hidden--visually\" id=\"sk-estimator-id-1\" type=\"checkbox\" ><label for=\"sk-estimator-id-1\" class=\"sk-toggleable__label sk-toggleable__label-arrow\">StackingRegressor</label><div class=\"sk-toggleable__content\"><pre>StackingRegressor(cv=&#x27;prefit&#x27;,\n",
       "                  estimators=[(&#x27;MP_MR&#x27;,\n",
       "                               Pipeline(steps=[(&#x27;data_preprocessing&#x27;,\n",
       "                                                ColumnTransformer(transformers=[(&#x27;cat_cols&#x27;,\n",
       "                                                                                 Pipeline(steps=[(&#x27;feature_extraction&#x27;,\n",
       "                                                                                                  FeatureExtraction()),\n",
       "                                                                                                 (&#x27;imputer&#x27;,\n",
       "                                                                                                  SimpleImputer(fill_value=&#x27;Tuntematon&#x27;,\n",
       "                                                                                                                strategy=&#x27;constant&#x27;)),\n",
       "                                                                                                 (&#x27;onehot&#x27;,\n",
       "                                                                                                  OneHotEncoder(handle_unknown=&#x27;ignore&#x27;))]),\n",
       "                                                                                 [&#x27;Kaupunki&#x27;,\n",
       "                                                                                  &#x27;Huoneistotyyppi&#x27;,\n",
       "                                                                                  &#x27;Talo...\n",
       "                                                                                  &#x27;Talotyyppi&#x27;,\n",
       "                                                                                  &#x27;m2&#x27;,\n",
       "                                                                                  &#x27;Rakennusvuosi&#x27;,\n",
       "                                                                                  &#x27;Kerros&#x27;,\n",
       "                                                                                  &#x27;Hissi&#x27;,\n",
       "                                                                                  &#x27;Kunto&#x27;,\n",
       "                                                                                  &#x27;Tontti&#x27;,\n",
       "                                                                                  &#x27;Energialuokka&#x27;])])),\n",
       "                                               (&#x27;ohe&#x27;,\n",
       "                                                ColumnTransformer(n_jobs=-1,\n",
       "                                                                  remainder=&#x27;passthrough&#x27;,\n",
       "                                                                  transformers=[(&#x27;onehotencoder&#x27;,\n",
       "                                                                                 OneHotEncoder(handle_unknown=&#x27;ignore&#x27;,\n",
       "                                                                                               sparse=False),\n",
       "                                                                                 [0])])),\n",
       "                                               (&#x27;cat&#x27;,\n",
       "                                                &lt;catboost.core.CatBoostRegressor object at 0x000001B2FCC9B1C0&gt;)]))],\n",
       "                  final_estimator=MLPRegressor(), n_jobs=-1)</pre></div></div></div><div class=\"sk-serial\"><div class=\"sk-item\"><div class=\"sk-parallel\"><div class=\"sk-parallel-item\"><div class=\"sk-item\"><div class=\"sk-label-container\"><div class=\"sk-label sk-toggleable\"><label>MP_MR</label></div></div><div class=\"sk-serial\"><div class=\"sk-item\"><div class=\"sk-serial\"><div class=\"sk-item sk-dashed-wrapped\"><div class=\"sk-label-container\"><div class=\"sk-label sk-toggleable\"><input class=\"sk-toggleable__control sk-hidden--visually\" id=\"sk-estimator-id-2\" type=\"checkbox\" ><label for=\"sk-estimator-id-2\" class=\"sk-toggleable__label sk-toggleable__label-arrow\">data_preprocessing: ColumnTransformer</label><div class=\"sk-toggleable__content\"><pre>ColumnTransformer(transformers=[(&#x27;cat_cols&#x27;,\n",
       "                                 Pipeline(steps=[(&#x27;feature_extraction&#x27;,\n",
       "                                                  FeatureExtraction()),\n",
       "                                                 (&#x27;imputer&#x27;,\n",
       "                                                  SimpleImputer(fill_value=&#x27;Tuntematon&#x27;,\n",
       "                                                                strategy=&#x27;constant&#x27;)),\n",
       "                                                 (&#x27;onehot&#x27;,\n",
       "                                                  OneHotEncoder(handle_unknown=&#x27;ignore&#x27;))]),\n",
       "                                 [&#x27;Kaupunki&#x27;, &#x27;Huoneistotyyppi&#x27;, &#x27;Talotyyppi&#x27;,\n",
       "                                  &#x27;Kaupunginosa&#x27;, &#x27;Postinumero&#x27;, &#x27;Kerros&#x27;,\n",
       "                                  &#x27;Hissi&#x27;, &#x27;Kunto&#x27;, &#x27;Tontti&#x27;,\n",
       "                                  &#x27;Energialuokka&#x27;]),\n",
       "                                (&#x27;num_cols&#x27;,\n",
       "                                 Pipeline(steps=[(&#x27;imputer&#x27;, SimpleImputer()),\n",
       "                                                 (&#x27;scaler&#x27;, StandardScaler())]),\n",
       "                                 [&#x27;m2&#x27;, &#x27;Rakennusvuosi&#x27;])])</pre></div></div></div><div class=\"sk-parallel\"><div class=\"sk-parallel-item\"><div class=\"sk-item\"><div class=\"sk-label-container\"><div class=\"sk-label sk-toggleable\"><input class=\"sk-toggleable__control sk-hidden--visually\" id=\"sk-estimator-id-3\" type=\"checkbox\" ><label for=\"sk-estimator-id-3\" class=\"sk-toggleable__label sk-toggleable__label-arrow\">cat_cols</label><div class=\"sk-toggleable__content\"><pre>[&#x27;Kaupunki&#x27;, &#x27;Huoneistotyyppi&#x27;, &#x27;Talotyyppi&#x27;, &#x27;Kaupunginosa&#x27;, &#x27;Postinumero&#x27;, &#x27;Kerros&#x27;, &#x27;Hissi&#x27;, &#x27;Kunto&#x27;, &#x27;Tontti&#x27;, &#x27;Energialuokka&#x27;]</pre></div></div></div><div class=\"sk-serial\"><div class=\"sk-item\"><div class=\"sk-serial\"><div class=\"sk-item\"><div class=\"sk-estimator sk-toggleable\"><input class=\"sk-toggleable__control sk-hidden--visually\" id=\"sk-estimator-id-4\" type=\"checkbox\" ><label for=\"sk-estimator-id-4\" class=\"sk-toggleable__label sk-toggleable__label-arrow\">FeatureExtraction</label><div class=\"sk-toggleable__content\"><pre>FeatureExtraction()</pre></div></div></div><div class=\"sk-item\"><div class=\"sk-estimator sk-toggleable\"><input class=\"sk-toggleable__control sk-hidden--visually\" id=\"sk-estimator-id-5\" type=\"checkbox\" ><label for=\"sk-estimator-id-5\" class=\"sk-toggleable__label sk-toggleable__label-arrow\">SimpleImputer</label><div class=\"sk-toggleable__content\"><pre>SimpleImputer(fill_value=&#x27;Tuntematon&#x27;, strategy=&#x27;constant&#x27;)</pre></div></div></div><div class=\"sk-item\"><div class=\"sk-estimator sk-toggleable\"><input class=\"sk-toggleable__control sk-hidden--visually\" id=\"sk-estimator-id-6\" type=\"checkbox\" ><label for=\"sk-estimator-id-6\" class=\"sk-toggleable__label sk-toggleable__label-arrow\">OneHotEncoder</label><div class=\"sk-toggleable__content\"><pre>OneHotEncoder(handle_unknown=&#x27;ignore&#x27;)</pre></div></div></div></div></div></div></div></div><div class=\"sk-parallel-item\"><div class=\"sk-item\"><div class=\"sk-label-container\"><div class=\"sk-label sk-toggleable\"><input class=\"sk-toggleable__control sk-hidden--visually\" id=\"sk-estimator-id-7\" type=\"checkbox\" ><label for=\"sk-estimator-id-7\" class=\"sk-toggleable__label sk-toggleable__label-arrow\">num_cols</label><div class=\"sk-toggleable__content\"><pre>[&#x27;m2&#x27;, &#x27;Rakennusvuosi&#x27;]</pre></div></div></div><div class=\"sk-serial\"><div class=\"sk-item\"><div class=\"sk-serial\"><div class=\"sk-item\"><div class=\"sk-estimator sk-toggleable\"><input class=\"sk-toggleable__control sk-hidden--visually\" id=\"sk-estimator-id-8\" type=\"checkbox\" ><label for=\"sk-estimator-id-8\" class=\"sk-toggleable__label sk-toggleable__label-arrow\">SimpleImputer</label><div class=\"sk-toggleable__content\"><pre>SimpleImputer()</pre></div></div></div><div class=\"sk-item\"><div class=\"sk-estimator sk-toggleable\"><input class=\"sk-toggleable__control sk-hidden--visually\" id=\"sk-estimator-id-9\" type=\"checkbox\" ><label for=\"sk-estimator-id-9\" class=\"sk-toggleable__label sk-toggleable__label-arrow\">StandardScaler</label><div class=\"sk-toggleable__content\"><pre>StandardScaler()</pre></div></div></div></div></div></div></div></div></div></div><div class=\"sk-item\"><div class=\"sk-estimator sk-toggleable\"><input class=\"sk-toggleable__control sk-hidden--visually\" id=\"sk-estimator-id-10\" type=\"checkbox\" ><label for=\"sk-estimator-id-10\" class=\"sk-toggleable__label sk-toggleable__label-arrow\">MLPRegressor</label><div class=\"sk-toggleable__content\"><pre>MLPRegressor(hidden_layer_sizes=(25, 25), max_iter=250, random_state=123,\n",
       "             solver=&#x27;lbfgs&#x27;)</pre></div></div></div></div></div></div></div></div><div class=\"sk-parallel-item\"><div class=\"sk-item\"><div class=\"sk-label-container\"><div class=\"sk-label sk-toggleable\"><label>GB_JR</label></div></div><div class=\"sk-serial\"><div class=\"sk-item\"><div class=\"sk-serial\"><div class=\"sk-item sk-dashed-wrapped\"><div class=\"sk-label-container\"><div class=\"sk-label sk-toggleable\"><input class=\"sk-toggleable__control sk-hidden--visually\" id=\"sk-estimator-id-11\" type=\"checkbox\" ><label for=\"sk-estimator-id-11\" class=\"sk-toggleable__label sk-toggleable__label-arrow\">parsing: ColumnTransformer</label><div class=\"sk-toggleable__content\"><pre>ColumnTransformer(n_jobs=-1,\n",
       "                  transformers=[(&#x27;mycategoricaltransformer&#x27;,\n",
       "                                 MyCategoricalTransformer(),\n",
       "                                 [&#x27;Postinumero&#x27;, &#x27;Huoneisto&#x27;, &#x27;Huoneistotyyppi&#x27;,\n",
       "                                  &#x27;Talotyyppi&#x27;, &#x27;m2&#x27;, &#x27;Rakennusvuosi&#x27;, &#x27;Kerros&#x27;,\n",
       "                                  &#x27;Hissi&#x27;, &#x27;Kunto&#x27;, &#x27;Tontti&#x27;,\n",
       "                                  &#x27;Energialuokka&#x27;])])</pre></div></div></div><div class=\"sk-parallel\"><div class=\"sk-parallel-item\"><div class=\"sk-item\"><div class=\"sk-label-container\"><div class=\"sk-label sk-toggleable\"><input class=\"sk-toggleable__control sk-hidden--visually\" id=\"sk-estimator-id-12\" type=\"checkbox\" ><label for=\"sk-estimator-id-12\" class=\"sk-toggleable__label sk-toggleable__label-arrow\">mycategoricaltransformer</label><div class=\"sk-toggleable__content\"><pre>[&#x27;Postinumero&#x27;, &#x27;Huoneisto&#x27;, &#x27;Huoneistotyyppi&#x27;, &#x27;Talotyyppi&#x27;, &#x27;m2&#x27;, &#x27;Rakennusvuosi&#x27;, &#x27;Kerros&#x27;, &#x27;Hissi&#x27;, &#x27;Kunto&#x27;, &#x27;Tontti&#x27;, &#x27;Energialuokka&#x27;]</pre></div></div></div><div class=\"sk-serial\"><div class=\"sk-item\"><div class=\"sk-estimator sk-toggleable\"><input class=\"sk-toggleable__control sk-hidden--visually\" id=\"sk-estimator-id-13\" type=\"checkbox\" ><label for=\"sk-estimator-id-13\" class=\"sk-toggleable__label sk-toggleable__label-arrow\">MyCategoricalTransformer</label><div class=\"sk-toggleable__content\"><pre>MyCategoricalTransformer()</pre></div></div></div></div></div></div></div></div><div class=\"sk-item sk-dashed-wrapped\"><div class=\"sk-label-container\"><div class=\"sk-label sk-toggleable\"><input class=\"sk-toggleable__control sk-hidden--visually\" id=\"sk-estimator-id-14\" type=\"checkbox\" ><label for=\"sk-estimator-id-14\" class=\"sk-toggleable__label sk-toggleable__label-arrow\">ohe: ColumnTransformer</label><div class=\"sk-toggleable__content\"><pre>ColumnTransformer(n_jobs=-1, remainder=&#x27;passthrough&#x27;,\n",
       "                  transformers=[(&#x27;onehotencoder&#x27;,\n",
       "                                 OneHotEncoder(handle_unknown=&#x27;ignore&#x27;,\n",
       "                                               sparse=False),\n",
       "                                 [0])])</pre></div></div></div><div class=\"sk-parallel\"><div class=\"sk-parallel-item\"><div class=\"sk-item\"><div class=\"sk-label-container\"><div class=\"sk-label sk-toggleable\"><input class=\"sk-toggleable__control sk-hidden--visually\" id=\"sk-estimator-id-15\" type=\"checkbox\" ><label for=\"sk-estimator-id-15\" class=\"sk-toggleable__label sk-toggleable__label-arrow\">onehotencoder</label><div class=\"sk-toggleable__content\"><pre>[0]</pre></div></div></div><div class=\"sk-serial\"><div class=\"sk-item\"><div class=\"sk-estimator sk-toggleable\"><input class=\"sk-toggleable__control sk-hidden--visually\" id=\"sk-estimator-id-16\" type=\"checkbox\" ><label for=\"sk-estimator-id-16\" class=\"sk-toggleable__label sk-toggleable__label-arrow\">OneHotEncoder</label><div class=\"sk-toggleable__content\"><pre>OneHotEncoder(handle_unknown=&#x27;ignore&#x27;, sparse=False)</pre></div></div></div></div></div></div><div class=\"sk-parallel-item\"><div class=\"sk-item\"><div class=\"sk-label-container\"><div class=\"sk-label sk-toggleable\"><input class=\"sk-toggleable__control sk-hidden--visually\" id=\"sk-estimator-id-17\" type=\"checkbox\" ><label for=\"sk-estimator-id-17\" class=\"sk-toggleable__label sk-toggleable__label-arrow\">remainder</label><div class=\"sk-toggleable__content\"><pre>[1, 2, 3, 4, 5, 6, 7, 8, 9, 10, 11]</pre></div></div></div><div class=\"sk-serial\"><div class=\"sk-item\"><div class=\"sk-estimator sk-toggleable\"><input class=\"sk-toggleable__control sk-hidden--visually\" id=\"sk-estimator-id-18\" type=\"checkbox\" ><label for=\"sk-estimator-id-18\" class=\"sk-toggleable__label sk-toggleable__label-arrow\">passthrough</label><div class=\"sk-toggleable__content\"><pre>passthrough</pre></div></div></div></div></div></div></div></div><div class=\"sk-item\"><div class=\"sk-estimator sk-toggleable\"><input class=\"sk-toggleable__control sk-hidden--visually\" id=\"sk-estimator-id-19\" type=\"checkbox\" ><label for=\"sk-estimator-id-19\" class=\"sk-toggleable__label sk-toggleable__label-arrow\">GradientBoostingRegressor</label><div class=\"sk-toggleable__content\"><pre>GradientBoostingRegressor(learning_rate=0.05, max_depth=6)</pre></div></div></div></div></div></div></div></div><div class=\"sk-parallel-item\"><div class=\"sk-item\"><div class=\"sk-label-container\"><div class=\"sk-label sk-toggleable\"><label>GB_MR</label></div></div><div class=\"sk-serial\"><div class=\"sk-item\"><div class=\"sk-serial\"><div class=\"sk-item sk-dashed-wrapped\"><div class=\"sk-label-container\"><div class=\"sk-label sk-toggleable\"><input class=\"sk-toggleable__control sk-hidden--visually\" id=\"sk-estimator-id-20\" type=\"checkbox\" ><label for=\"sk-estimator-id-20\" class=\"sk-toggleable__label sk-toggleable__label-arrow\">data_preprocessing: ColumnTransformer</label><div class=\"sk-toggleable__content\"><pre>ColumnTransformer(transformers=[(&#x27;cat_cols&#x27;,\n",
       "                                 Pipeline(steps=[(&#x27;feature_extraction&#x27;,\n",
       "                                                  FeatureExtraction()),\n",
       "                                                 (&#x27;imputer&#x27;,\n",
       "                                                  SimpleImputer(fill_value=&#x27;Tuntematon&#x27;,\n",
       "                                                                strategy=&#x27;constant&#x27;)),\n",
       "                                                 (&#x27;onehot&#x27;,\n",
       "                                                  OneHotEncoder(handle_unknown=&#x27;ignore&#x27;))]),\n",
       "                                 [&#x27;Kaupunki&#x27;, &#x27;Huoneistotyyppi&#x27;, &#x27;Talotyyppi&#x27;,\n",
       "                                  &#x27;Kaupunginosa&#x27;, &#x27;Postinumero&#x27;, &#x27;Kerros&#x27;,\n",
       "                                  &#x27;Hissi&#x27;, &#x27;Kunto&#x27;, &#x27;Tontti&#x27;,\n",
       "                                  &#x27;Energialuokka&#x27;]),\n",
       "                                (&#x27;num_cols&#x27;,\n",
       "                                 Pipeline(steps=[(&#x27;imputer&#x27;, SimpleImputer()),\n",
       "                                                 (&#x27;scaler&#x27;, StandardScaler())]),\n",
       "                                 [&#x27;m2&#x27;, &#x27;Rakennusvuosi&#x27;])])</pre></div></div></div><div class=\"sk-parallel\"><div class=\"sk-parallel-item\"><div class=\"sk-item\"><div class=\"sk-label-container\"><div class=\"sk-label sk-toggleable\"><input class=\"sk-toggleable__control sk-hidden--visually\" id=\"sk-estimator-id-21\" type=\"checkbox\" ><label for=\"sk-estimator-id-21\" class=\"sk-toggleable__label sk-toggleable__label-arrow\">cat_cols</label><div class=\"sk-toggleable__content\"><pre>[&#x27;Kaupunki&#x27;, &#x27;Huoneistotyyppi&#x27;, &#x27;Talotyyppi&#x27;, &#x27;Kaupunginosa&#x27;, &#x27;Postinumero&#x27;, &#x27;Kerros&#x27;, &#x27;Hissi&#x27;, &#x27;Kunto&#x27;, &#x27;Tontti&#x27;, &#x27;Energialuokka&#x27;]</pre></div></div></div><div class=\"sk-serial\"><div class=\"sk-item\"><div class=\"sk-serial\"><div class=\"sk-item\"><div class=\"sk-estimator sk-toggleable\"><input class=\"sk-toggleable__control sk-hidden--visually\" id=\"sk-estimator-id-22\" type=\"checkbox\" ><label for=\"sk-estimator-id-22\" class=\"sk-toggleable__label sk-toggleable__label-arrow\">FeatureExtraction</label><div class=\"sk-toggleable__content\"><pre>FeatureExtraction()</pre></div></div></div><div class=\"sk-item\"><div class=\"sk-estimator sk-toggleable\"><input class=\"sk-toggleable__control sk-hidden--visually\" id=\"sk-estimator-id-23\" type=\"checkbox\" ><label for=\"sk-estimator-id-23\" class=\"sk-toggleable__label sk-toggleable__label-arrow\">SimpleImputer</label><div class=\"sk-toggleable__content\"><pre>SimpleImputer(fill_value=&#x27;Tuntematon&#x27;, strategy=&#x27;constant&#x27;)</pre></div></div></div><div class=\"sk-item\"><div class=\"sk-estimator sk-toggleable\"><input class=\"sk-toggleable__control sk-hidden--visually\" id=\"sk-estimator-id-24\" type=\"checkbox\" ><label for=\"sk-estimator-id-24\" class=\"sk-toggleable__label sk-toggleable__label-arrow\">OneHotEncoder</label><div class=\"sk-toggleable__content\"><pre>OneHotEncoder(handle_unknown=&#x27;ignore&#x27;)</pre></div></div></div></div></div></div></div></div><div class=\"sk-parallel-item\"><div class=\"sk-item\"><div class=\"sk-label-container\"><div class=\"sk-label sk-toggleable\"><input class=\"sk-toggleable__control sk-hidden--visually\" id=\"sk-estimator-id-25\" type=\"checkbox\" ><label for=\"sk-estimator-id-25\" class=\"sk-toggleable__label sk-toggleable__label-arrow\">num_cols</label><div class=\"sk-toggleable__content\"><pre>[&#x27;m2&#x27;, &#x27;Rakennusvuosi&#x27;]</pre></div></div></div><div class=\"sk-serial\"><div class=\"sk-item\"><div class=\"sk-serial\"><div class=\"sk-item\"><div class=\"sk-estimator sk-toggleable\"><input class=\"sk-toggleable__control sk-hidden--visually\" id=\"sk-estimator-id-26\" type=\"checkbox\" ><label for=\"sk-estimator-id-26\" class=\"sk-toggleable__label sk-toggleable__label-arrow\">SimpleImputer</label><div class=\"sk-toggleable__content\"><pre>SimpleImputer()</pre></div></div></div><div class=\"sk-item\"><div class=\"sk-estimator sk-toggleable\"><input class=\"sk-toggleable__control sk-hidden--visually\" id=\"sk-estimator-id-27\" type=\"checkbox\" ><label for=\"sk-estimator-id-27\" class=\"sk-toggleable__label sk-toggleable__label-arrow\">StandardScaler</label><div class=\"sk-toggleable__content\"><pre>StandardScaler()</pre></div></div></div></div></div></div></div></div></div></div><div class=\"sk-item\"><div class=\"sk-estimator sk-toggleable\"><input class=\"sk-toggleable__control sk-hidden--visually\" id=\"sk-estimator-id-28\" type=\"checkbox\" ><label for=\"sk-estimator-id-28\" class=\"sk-toggleable__label sk-toggleable__label-arrow\">GradientBoostingRegressor</label><div class=\"sk-toggleable__content\"><pre>GradientBoostingRegressor(learning_rate=0.5, n_estimators=250)</pre></div></div></div></div></div></div></div></div><div class=\"sk-parallel-item\"><div class=\"sk-item\"><div class=\"sk-label-container\"><div class=\"sk-label sk-toggleable\"><label>CatBoost_JR</label></div></div><div class=\"sk-serial\"><div class=\"sk-item\"><div class=\"sk-serial\"><div class=\"sk-item sk-dashed-wrapped\"><div class=\"sk-label-container\"><div class=\"sk-label sk-toggleable\"><input class=\"sk-toggleable__control sk-hidden--visually\" id=\"sk-estimator-id-29\" type=\"checkbox\" ><label for=\"sk-estimator-id-29\" class=\"sk-toggleable__label sk-toggleable__label-arrow\">parsing: ColumnTransformer</label><div class=\"sk-toggleable__content\"><pre>ColumnTransformer(n_jobs=-1,\n",
       "                  transformers=[(&#x27;mycategoricaltransformer&#x27;,\n",
       "                                 MyCategoricalTransformer(),\n",
       "                                 [&#x27;Postinumero&#x27;, &#x27;Huoneisto&#x27;, &#x27;Huoneistotyyppi&#x27;,\n",
       "                                  &#x27;Talotyyppi&#x27;, &#x27;m2&#x27;, &#x27;Rakennusvuosi&#x27;, &#x27;Kerros&#x27;,\n",
       "                                  &#x27;Hissi&#x27;, &#x27;Kunto&#x27;, &#x27;Tontti&#x27;,\n",
       "                                  &#x27;Energialuokka&#x27;])])</pre></div></div></div><div class=\"sk-parallel\"><div class=\"sk-parallel-item\"><div class=\"sk-item\"><div class=\"sk-label-container\"><div class=\"sk-label sk-toggleable\"><input class=\"sk-toggleable__control sk-hidden--visually\" id=\"sk-estimator-id-30\" type=\"checkbox\" ><label for=\"sk-estimator-id-30\" class=\"sk-toggleable__label sk-toggleable__label-arrow\">mycategoricaltransformer</label><div class=\"sk-toggleable__content\"><pre>[&#x27;Postinumero&#x27;, &#x27;Huoneisto&#x27;, &#x27;Huoneistotyyppi&#x27;, &#x27;Talotyyppi&#x27;, &#x27;m2&#x27;, &#x27;Rakennusvuosi&#x27;, &#x27;Kerros&#x27;, &#x27;Hissi&#x27;, &#x27;Kunto&#x27;, &#x27;Tontti&#x27;, &#x27;Energialuokka&#x27;]</pre></div></div></div><div class=\"sk-serial\"><div class=\"sk-item\"><div class=\"sk-estimator sk-toggleable\"><input class=\"sk-toggleable__control sk-hidden--visually\" id=\"sk-estimator-id-31\" type=\"checkbox\" ><label for=\"sk-estimator-id-31\" class=\"sk-toggleable__label sk-toggleable__label-arrow\">MyCategoricalTransformer</label><div class=\"sk-toggleable__content\"><pre>MyCategoricalTransformer()</pre></div></div></div></div></div></div></div></div><div class=\"sk-item sk-dashed-wrapped\"><div class=\"sk-label-container\"><div class=\"sk-label sk-toggleable\"><input class=\"sk-toggleable__control sk-hidden--visually\" id=\"sk-estimator-id-32\" type=\"checkbox\" ><label for=\"sk-estimator-id-32\" class=\"sk-toggleable__label sk-toggleable__label-arrow\">ohe: ColumnTransformer</label><div class=\"sk-toggleable__content\"><pre>ColumnTransformer(n_jobs=-1, remainder=&#x27;passthrough&#x27;,\n",
       "                  transformers=[(&#x27;onehotencoder&#x27;,\n",
       "                                 OneHotEncoder(handle_unknown=&#x27;ignore&#x27;,\n",
       "                                               sparse=False),\n",
       "                                 [0])])</pre></div></div></div><div class=\"sk-parallel\"><div class=\"sk-parallel-item\"><div class=\"sk-item\"><div class=\"sk-label-container\"><div class=\"sk-label sk-toggleable\"><input class=\"sk-toggleable__control sk-hidden--visually\" id=\"sk-estimator-id-33\" type=\"checkbox\" ><label for=\"sk-estimator-id-33\" class=\"sk-toggleable__label sk-toggleable__label-arrow\">onehotencoder</label><div class=\"sk-toggleable__content\"><pre>[0]</pre></div></div></div><div class=\"sk-serial\"><div class=\"sk-item\"><div class=\"sk-estimator sk-toggleable\"><input class=\"sk-toggleable__control sk-hidden--visually\" id=\"sk-estimator-id-34\" type=\"checkbox\" ><label for=\"sk-estimator-id-34\" class=\"sk-toggleable__label sk-toggleable__label-arrow\">OneHotEncoder</label><div class=\"sk-toggleable__content\"><pre>OneHotEncoder(handle_unknown=&#x27;ignore&#x27;, sparse=False)</pre></div></div></div></div></div></div><div class=\"sk-parallel-item\"><div class=\"sk-item\"><div class=\"sk-label-container\"><div class=\"sk-label sk-toggleable\"><input class=\"sk-toggleable__control sk-hidden--visually\" id=\"sk-estimator-id-35\" type=\"checkbox\" ><label for=\"sk-estimator-id-35\" class=\"sk-toggleable__label sk-toggleable__label-arrow\">remainder</label><div class=\"sk-toggleable__content\"><pre>[1, 2, 3, 4, 5, 6, 7, 8, 9, 10, 11]</pre></div></div></div><div class=\"sk-serial\"><div class=\"sk-item\"><div class=\"sk-estimator sk-toggleable\"><input class=\"sk-toggleable__control sk-hidden--visually\" id=\"sk-estimator-id-36\" type=\"checkbox\" ><label for=\"sk-estimator-id-36\" class=\"sk-toggleable__label sk-toggleable__label-arrow\">passthrough</label><div class=\"sk-toggleable__content\"><pre>passthrough</pre></div></div></div></div></div></div></div></div><div class=\"sk-item\"><div class=\"sk-estimator sk-toggleable\"><input class=\"sk-toggleable__control sk-hidden--visually\" id=\"sk-estimator-id-37\" type=\"checkbox\" ><label for=\"sk-estimator-id-37\" class=\"sk-toggleable__label sk-toggleable__label-arrow\">CatBoostRegressor</label><div class=\"sk-toggleable__content\"><pre>&lt;catboost.core.CatBoostRegressor object at 0x000001B2FCC9B1C0&gt;</pre></div></div></div></div></div></div></div></div></div></div><div class=\"sk-item\"><div class=\"sk-parallel\"><div class=\"sk-parallel-item\"><div class=\"sk-item\"><div class=\"sk-label-container\"><div class=\"sk-label sk-toggleable\"><label>final_estimator</label></div></div><div class=\"sk-serial\"><div class=\"sk-item\"><div class=\"sk-estimator sk-toggleable\"><input class=\"sk-toggleable__control sk-hidden--visually\" id=\"sk-estimator-id-38\" type=\"checkbox\" ><label for=\"sk-estimator-id-38\" class=\"sk-toggleable__label sk-toggleable__label-arrow\">MLPRegressor</label><div class=\"sk-toggleable__content\"><pre>MLPRegressor()</pre></div></div></div></div></div></div></div></div></div></div></div></div>"
      ],
      "text/plain": [
       "StackingRegressor(cv='prefit',\n",
       "                  estimators=[('MP_MR',\n",
       "                               Pipeline(steps=[('data_preprocessing',\n",
       "                                                ColumnTransformer(transformers=[('cat_cols',\n",
       "                                                                                 Pipeline(steps=[('feature_extraction',\n",
       "                                                                                                  FeatureExtraction()),\n",
       "                                                                                                 ('imputer',\n",
       "                                                                                                  SimpleImputer(fill_value='Tuntematon',\n",
       "                                                                                                                strategy='constant')),\n",
       "                                                                                                 ('onehot',\n",
       "                                                                                                  OneHotEncoder(handle_unknown='ignore'))]),\n",
       "                                                                                 ['Kaupunki',\n",
       "                                                                                  'Huoneistotyyppi',\n",
       "                                                                                  'Talo...\n",
       "                                                                                  'Talotyyppi',\n",
       "                                                                                  'm2',\n",
       "                                                                                  'Rakennusvuosi',\n",
       "                                                                                  'Kerros',\n",
       "                                                                                  'Hissi',\n",
       "                                                                                  'Kunto',\n",
       "                                                                                  'Tontti',\n",
       "                                                                                  'Energialuokka'])])),\n",
       "                                               ('ohe',\n",
       "                                                ColumnTransformer(n_jobs=-1,\n",
       "                                                                  remainder='passthrough',\n",
       "                                                                  transformers=[('onehotencoder',\n",
       "                                                                                 OneHotEncoder(handle_unknown='ignore',\n",
       "                                                                                               sparse=False),\n",
       "                                                                                 [0])])),\n",
       "                                               ('cat',\n",
       "                                                <catboost.core.CatBoostRegressor object at 0x000001B2FCC9B1C0>)]))],\n",
       "                  final_estimator=MLPRegressor(), n_jobs=-1)"
      ]
     },
     "execution_count": 12,
     "metadata": {},
     "output_type": "execute_result"
    }
   ],
   "source": [
    "stack.fit(X_train, y_train)"
   ]
  },
  {
   "cell_type": "code",
   "execution_count": 13,
   "id": "c99f0b26-36b9-476f-a039-0b78b339c122",
   "metadata": {},
   "outputs": [
    {
     "data": {
      "text/plain": [
       "0.8967571861583673"
      ]
     },
     "execution_count": 13,
     "metadata": {},
     "output_type": "execute_result"
    }
   ],
   "source": [
    "stack.score(X_test, y_test)"
   ]
  },
  {
   "cell_type": "markdown",
   "id": "4cde1f0b-5441-4a26-ac9f-565410c711e7",
   "metadata": {},
   "source": [
    "## Helsinki"
   ]
  },
  {
   "cell_type": "code",
   "execution_count": 14,
   "id": "05b50b45-f710-4752-b0a1-786eff53d2d0",
   "metadata": {},
   "outputs": [],
   "source": [
    "def data_split_kaupunki(df, kaupunki):\n",
    "\n",
    "    train, test = train_test_split(df[[\"Postinumero\", \"Kaupunginosa\", \"Kaupunki\", \t\"Huoneisto\", \"Huoneistotyyppi\",\t\"Talotyyppi\",\t\"m2\", \"Velaton hinta\"\t,\"Rakennusvuosi\",\t\"Kerros\"\t,\"Hissi\"\t,\"Kunto\"\t,\"Tontti\"\t,\"Energialuokka\"]], test_size=0.2, train_size=0.8, random_state=2022, shuffle=True, stratify = df[\"Talotyyppi\"])\n",
    "    test = test[test[\"Kaupunki\"] == kaupunki]\n",
    "    X_test, y_test = test.drop(\"Velaton hinta\", axis = 1), test[\"Velaton hinta\"]\n",
    "\n",
    "    print(f\"R^2 kaupungilla {kaupunki}: {stack.score(X_test, y_test)}\")"
   ]
  },
  {
   "cell_type": "code",
   "execution_count": 15,
   "id": "abfd4322-d506-46ca-acfc-a7c2d2544f87",
   "metadata": {},
   "outputs": [
    {
     "name": "stdout",
     "output_type": "stream",
     "text": [
      "R^2 kaupungilla Helsinki: 0.8959218896208461\n",
      "R^2 kaupungilla Oulu: 0.857535565469949\n",
      "R^2 kaupungilla Tampere: 0.8645298081660788\n",
      "R^2 kaupungilla Turku: 0.826311449061804\n",
      "R^2 kaupungilla Jyväskylä: 0.8859741318462561\n"
     ]
    }
   ],
   "source": [
    "for kaupunki in [\"Helsinki\", \"Oulu\", \"Tampere\", \"Turku\", \"Jyväskylä\"]:\n",
    "    data_split_kaupunki(df, kaupunki)"
   ]
  },
  {
   "cell_type": "markdown",
   "id": "0c560f7b-eb1d-413c-9ba2-83330f4ac135",
   "metadata": {},
   "source": [
    "## Halvat/kalliit asunnot"
   ]
  },
  {
   "cell_type": "code",
   "execution_count": 16,
   "id": "240e0968-e86b-425e-9182-8c2c1a71acdd",
   "metadata": {},
   "outputs": [
    {
     "data": {
      "image/png": "[encoded data removed]",
      "text/plain": [
       "<Figure size 640x480 with 1 Axes>"
      ]
     },
     "metadata": {},
     "output_type": "display_data"
    }
   ],
   "source": [
    "plt.hist(df[\"Velaton hinta\"], bins = 100)\n",
    "plt.tight_layout()"
   ]
  },
  {
   "cell_type": "code",
   "execution_count": 17,
   "id": "9f843581-3ef9-4b1d-9653-8e0d64ea6cf3",
   "metadata": {},
   "outputs": [],
   "source": [
    "def data_split_quantiles(df, quantile_low, quantile_high):\n",
    "\n",
    "    train, test = train_test_split(df[[\"Postinumero\", \"Kaupunginosa\", \"Kaupunki\", \t\"Huoneisto\", \"Huoneistotyyppi\",\t\"Talotyyppi\",\t\"m2\", \"Velaton hinta\"\t,\"Rakennusvuosi\",\t\"Kerros\"\t,\"Hissi\"\t,\"Kunto\"\t,\"Tontti\"\t,\"Energialuokka\"]], test_size=0.2, train_size=0.8, random_state=2022, shuffle=True, stratify = df[\"Talotyyppi\"])\n",
    "    quantile_value_low = test[\"Velaton hinta\"].quantile(quantile_low)\n",
    "    quantile_value_high = test[\"Velaton hinta\"].quantile(quantile_high)\n",
    "    test = test[(test[\"Velaton hinta\"] > quantile_value_low) & (test[\"Velaton hinta\"] < quantile_value_high)]\n",
    "    X_test, y_test = test.drop(\"Velaton hinta\", axis = 1), test[\"Velaton hinta\"]\n",
    "\n",
    "    print(f\"R^2 kvantiililla {quantile_low, quantile_high}: {stack.score(X_test, y_test)}\")"
   ]
  },
  {
   "cell_type": "code",
   "execution_count": 18,
   "id": "1a5adebf-9ec7-4c92-9deb-c44c547e19d3",
   "metadata": {},
   "outputs": [
    {
     "name": "stdout",
     "output_type": "stream",
     "text": [
      "R^2 kvantiililla (0, 0.15): -2.0440481352929702\n",
      "R^2 kvantiililla (0.15, 0.25): -15.293074344647188\n",
      "R^2 kvantiililla (0.25, 0.4): -5.486294177916131\n",
      "R^2 kvantiililla (0.4, 0.65): -1.108489643555298\n",
      "R^2 kvantiililla (0.65, 0.8): -2.27827721504674\n",
      "R^2 kvantiililla (0.8, 0.95): -0.1297247658233276\n"
     ]
    }
   ],
   "source": [
    "for quantile_low, quantile_high in zip([0, 0.15, 0.25, 0.4, 0.65, 0.8],[0.15, 0.25, 0.4, 0.65, 0.8, 0.95]):\n",
    "    data_split_quantiles(df, quantile_low, quantile_high)\n",
    "    #print(quantile_low, quantile_high)"
   ]
  },
  {
   "cell_type": "code",
   "execution_count": 19,
   "id": "d902b531-6714-4d93-a272-d8d65ed2dd39",
   "metadata": {},
   "outputs": [],
   "source": [
    "def data_split_huoneet(df, huone1, huone2):\n",
    "    train, test = train_test_split(df[[\"Postinumero\", \"Kaupunginosa\", \"Kaupunki\", \t\"Huoneisto\", \"Huoneistotyyppi\",\t\"Talotyyppi\",\t\"m2\", \"Velaton hinta\"\t,\"Rakennusvuosi\",\t\"Kerros\"\t,\"Hissi\"\t,\"Kunto\"\t,\"Tontti\"\t,\"Energialuokka\"]], test_size=0.2, train_size=0.8, random_state=2022, shuffle=True, stratify = df[\"Talotyyppi\"])\n",
    "    test = test[test[\"Huoneistotyyppi\"] == (huone1 or huone2)]\n",
    "    X_test, y_test = test.drop(\"Velaton hinta\", axis = 1), test[\"Velaton hinta\"]\n",
    "    print(f\"R^2 huoneilla {huone1 , huone2}: {stack.score(X_test, y_test)}\")"
   ]
  },
  {
   "cell_type": "code",
   "execution_count": 20,
   "id": "3ffe79b2-674b-4d56-abf7-a44603557bea",
   "metadata": {},
   "outputs": [
    {
     "name": "stdout",
     "output_type": "stream",
     "text": [
      "R^2 huoneilla ('Yksiö', 'Kaksi huonetta'): 0.9243761916491479\n",
      "R^2 huoneilla ('Kolme huonetta', 'Neljä huonetta tai enemmän'): 0.9164001142966105\n"
     ]
    }
   ],
   "source": [
    "for huone1, huone2 in zip([\"Yksiö\", \"Kolme huonetta\"], [\"Kaksi huonetta\", \"Neljä huonetta tai enemmän\"]):\n",
    "    data_split_huoneet(df, huone1, huone2)"
   ]
  }
 ],
 "metadata": {
  "kernelspec": {
   "display_name": "Python 3 (ipykernel)",
   "language": "python",
   "name": "python3"
  },
  "language_info": {
   "codemirror_mode": {
    "name": "ipython",
    "version": 3
   },
   "file_extension": ".py",
   "mimetype": "text/x-python",
   "name": "python",
   "nbconvert_exporter": "python",
   "pygments_lexer": "ipython3",
   "version": "3.9.13"
  }
 },
 "nbformat": 4,
 "nbformat_minor": 5
}
